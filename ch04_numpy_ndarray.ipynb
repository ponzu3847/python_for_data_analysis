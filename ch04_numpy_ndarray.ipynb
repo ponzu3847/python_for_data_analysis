{
 "metadata": {
  "language_info": {
   "codemirror_mode": {
    "name": "ipython",
    "version": 3
   },
   "file_extension": ".py",
   "mimetype": "text/x-python",
   "name": "python",
   "nbconvert_exporter": "python",
   "pygments_lexer": "ipython3",
   "version": "3.8.3-final"
  },
  "orig_nbformat": 2,
  "kernelspec": {
   "name": "python3",
   "display_name": "Python 3",
   "language": "python"
  }
 },
 "nbformat": 4,
 "nbformat_minor": 2,
 "cells": [
  {
   "source": [
    "# Numpyの基礎：配列とベクトル演算\n",
    "NumpyのアルゴリズムはPython標準で提供される同等機能と比較して１０倍から１００倍、あるいはそれ以上に高速に動作する  \n",
    "さらに、要求するメモリ量も格段に少なくて済む"
   ],
   "cell_type": "markdown",
   "metadata": {}
  },
  {
   "cell_type": "code",
   "execution_count": 2,
   "metadata": {},
   "outputs": [],
   "source": [
    "import numpy as np\n",
    "\n",
    "my_arr=np.arange(1000000)\n",
    "my_list=list(range(1000000))"
   ]
  },
  {
   "cell_type": "code",
   "execution_count": 3,
   "metadata": {},
   "outputs": [
    {
     "output_type": "stream",
     "name": "stdout",
     "text": [
      "CPU times: user 20 ms, sys: 10.5 ms, total: 30.5 ms\nWall time: 36.8 ms\n"
     ]
    }
   ],
   "source": [
    "%time for _ in range(10):myarr2=my_arr*2"
   ]
  },
  {
   "cell_type": "code",
   "execution_count": 5,
   "metadata": {},
   "outputs": [
    {
     "output_type": "stream",
     "name": "stdout",
     "text": [
      "CPU times: user 606 ms, sys: 163 ms, total: 770 ms\nWall time: 783 ms\n"
     ]
    }
   ],
   "source": [
    "%time for _ in range(10):my_list2=[x*2 for x in my_list]"
   ]
  },
  {
   "source": [
    "## 4.1 Numpy ndarray：多次元配列オブジェクト"
   ],
   "cell_type": "markdown",
   "metadata": {}
  },
  {
   "source": [
    "### 4.1.1 ndarrayの生成"
   ],
   "cell_type": "markdown",
   "metadata": {}
  },
  {
   "cell_type": "code",
   "execution_count": 7,
   "metadata": {},
   "outputs": [
    {
     "output_type": "execute_result",
     "data": {
      "text/plain": [
       "array([3. , 2.5, 3. , 6. , 5. ])"
      ]
     },
     "metadata": {},
     "execution_count": 7
    }
   ],
   "source": [
    "data1=[3,2.5,3,6,5]\n",
    "arr1=np.array(data1)\n",
    "arr1"
   ]
  },
  {
   "cell_type": "code",
   "execution_count": 15,
   "metadata": {},
   "outputs": [
    {
     "output_type": "execute_result",
     "data": {
      "text/plain": [
       "1"
      ]
     },
     "metadata": {},
     "execution_count": 15
    }
   ],
   "source": [
    "arr1.ndim"
   ]
  },
  {
   "cell_type": "code",
   "execution_count": 16,
   "metadata": {},
   "outputs": [
    {
     "output_type": "execute_result",
     "data": {
      "text/plain": [
       "(5,)"
      ]
     },
     "metadata": {},
     "execution_count": 16
    }
   ],
   "source": [
    "arr1.shape"
   ]
  },
  {
   "cell_type": "code",
   "execution_count": 11,
   "metadata": {},
   "outputs": [
    {
     "output_type": "execute_result",
     "data": {
      "text/plain": [
       "array([[1, 2, 3, 4, 5],\n",
       "       [3, 4, 5, 3, 2]])"
      ]
     },
     "metadata": {},
     "execution_count": 11
    }
   ],
   "source": [
    "data2=[[1,2,3,4,5],[3,4,5,3,2]]\n",
    "arr2=np.array(data2)\n",
    "arr2"
   ]
  },
  {
   "cell_type": "code",
   "execution_count": 14,
   "metadata": {},
   "outputs": [
    {
     "output_type": "execute_result",
     "data": {
      "text/plain": [
       "2"
      ]
     },
     "metadata": {},
     "execution_count": 14
    }
   ],
   "source": [
    "arr2.ndim"
   ]
  },
  {
   "cell_type": "code",
   "execution_count": 17,
   "metadata": {},
   "outputs": [
    {
     "output_type": "execute_result",
     "data": {
      "text/plain": [
       "(2, 5)"
      ]
     },
     "metadata": {},
     "execution_count": 17
    }
   ],
   "source": [
    "arr2.shape"
   ]
  },
  {
   "cell_type": "code",
   "execution_count": 12,
   "metadata": {},
   "outputs": [
    {
     "output_type": "stream",
     "name": "stdout",
     "text": [
      "float64\nint64\n"
     ]
    }
   ],
   "source": [
    "#要素の型を明示的に指定せずnp.arrayを呼び出した場合、np.arrayは最適な方を推測しようする\n",
    "print(arr1.dtype)\n",
    "print(arr2.dtype)"
   ]
  },
  {
   "cell_type": "code",
   "execution_count": 20,
   "metadata": {},
   "outputs": [
    {
     "output_type": "execute_result",
     "data": {
      "text/plain": [
       "array([[[1.72723371e-077, 1.72723371e-077, 1.29441743e-312,\n",
       "         1.93101617e-312],\n",
       "        [9.33678148e-313, 9.33678148e-313, 9.33678148e-313,\n",
       "         9.33678148e-313],\n",
       "        [1.97345609e-312, 2.12199579e-313, 2.41907520e-312,\n",
       "         1.06099790e-312]],\n",
       "\n",
       "       [[2.33419537e-312, 9.76118064e-313, 2.41907520e-312,\n",
       "         2.05833592e-312],\n",
       "        [8.48798317e-313, 2.05833592e-312, 2.05833592e-312,\n",
       "         8.70018275e-313],\n",
       "        [2.05833592e-312, 2.41907520e-312, 2.12199579e-313,\n",
       "         1.67313542e-308]]])"
      ]
     },
     "metadata": {},
     "execution_count": 20
    }
   ],
   "source": [
    "#np.emptyで返される配列要素が０であることは保証されていないので注意\n",
    "arr3=np.empty((2,3,4))\n",
    "arr3"
   ]
  },
  {
   "cell_type": "code",
   "execution_count": 21,
   "metadata": {},
   "outputs": [
    {
     "output_type": "execute_result",
     "data": {
      "text/plain": [
       "dtype('float64')"
      ]
     },
     "metadata": {},
     "execution_count": 21
    }
   ],
   "source": [
    "arr3.dtype"
   ]
  },
  {
   "source": [
    "### 4.1.2 ndarrayのデータ型"
   ],
   "cell_type": "markdown",
   "metadata": {}
  },
  {
   "cell_type": "code",
   "execution_count": 30,
   "metadata": {},
   "outputs": [],
   "source": [
    "arr1=np.array([1.44,2.33,3.55],dtype=np.float64)\n",
    "arr2=np.array([3,4,5],dtype=np.int32)"
   ]
  },
  {
   "cell_type": "code",
   "execution_count": 31,
   "metadata": {},
   "outputs": [
    {
     "output_type": "execute_result",
     "data": {
      "text/plain": [
       "dtype('float64')"
      ]
     },
     "metadata": {},
     "execution_count": 31
    }
   ],
   "source": [
    "arr1.dtype"
   ]
  },
  {
   "cell_type": "code",
   "execution_count": 32,
   "metadata": {},
   "outputs": [
    {
     "output_type": "execute_result",
     "data": {
      "text/plain": [
       "dtype('int32')"
      ]
     },
     "metadata": {},
     "execution_count": 32
    }
   ],
   "source": [
    "arr2.dtype"
   ]
  },
  {
   "cell_type": "code",
   "execution_count": 33,
   "metadata": {},
   "outputs": [
    {
     "output_type": "execute_result",
     "data": {
      "text/plain": [
       "dtype('float64')"
      ]
     },
     "metadata": {},
     "execution_count": 33
    }
   ],
   "source": [
    "#明示的な型変換（キャスト）\n",
    "float_arr=arr2.astype('float64')\n",
    "float_arr.dtype"
   ]
  },
  {
   "cell_type": "code",
   "execution_count": 34,
   "metadata": {},
   "outputs": [
    {
     "output_type": "execute_result",
     "data": {
      "text/plain": [
       "array([1, 2, 3], dtype=int32)"
      ]
     },
     "metadata": {},
     "execution_count": 34
    }
   ],
   "source": [
    "#小数型を整数型にキャストすると小数部分は切り捨てられる\n",
    "int_arr=arr1.astype('int32')\n",
    "int_arr"
   ]
  },
  {
   "cell_type": "code",
   "execution_count": 39,
   "metadata": {},
   "outputs": [
    {
     "output_type": "execute_result",
     "data": {
      "text/plain": [
       "array([1.34      , 3.32      , 2.33      , 3.44466622])"
      ]
     },
     "metadata": {},
     "execution_count": 39
    }
   ],
   "source": [
    "#文字列型からfloat型へのキャスト\n",
    "numeric_strings=np.array(['1.34','3.32','2.33','3.4446662224444'],dtype=np.string_)   #numpyの文字列データは固定長であるため、警告なしに切り捨てられる可能性があるため注意\n",
    "numeric_strings=numeric_strings.astype(float)\n",
    "numeric_strings"
   ]
  },
  {
   "cell_type": "code",
   "execution_count": 40,
   "metadata": {},
   "outputs": [
    {
     "output_type": "stream",
     "name": "stdout",
     "text": [
      "int64\nfloat64\n"
     ]
    }
   ],
   "source": [
    "#あるarrayのdtypeに別のarrayのdtypeを適用することもできる\n",
    "int_array=np.arange(10)\n",
    "calibers=np.array([.22,.270,.357,.380,.44,.50],dtype=np.float64)\n",
    "print(int_array.dtype)\n",
    "print(calibers.dtyp"
   ]
  },
  {
   "cell_type": "code",
   "execution_count": 44,
   "metadata": {},
   "outputs": [
    {
     "output_type": "stream",
     "name": "stdout",
     "text": [
      "int64\nfloat64\n"
     ]
    }
   ],
   "source": [
    "new_array=int_array.astype(calibers.dtype)    #astypeを呼び出す際に必ず新規arrayが生成される（データがコピーされる）ことに注意\n",
    "print(int_array.dtype)  #コピー元は変更されない\n",
    "print(new_array.dtype)"
   ]
  },
  {
   "source": [
    "### 4.1.3 ndarray間の算術演算"
   ],
   "cell_type": "markdown",
   "metadata": {}
  },
  {
   "cell_type": "code",
   "execution_count": 45,
   "metadata": {},
   "outputs": [
    {
     "output_type": "execute_result",
     "data": {
      "text/plain": [
       "array([[False, False,  True],\n",
       "       [False, False,  True]])"
      ]
     },
     "metadata": {},
     "execution_count": 45
    }
   ],
   "source": [
    "#ndarray間を比較したとき、その結果は同要素数の真偽値配列として戻される\n",
    "arr1=np.array([[1,2,3],[4,5,6]])\n",
    "arr2=np.array([[3,2,1],[5,7,3]])\n",
    "arr1>arr2"
   ]
  },
  {
   "source": [
    "### 4.1.4 インデックス参照とスライシングの基礎"
   ],
   "cell_type": "markdown",
   "metadata": {}
  },
  {
   "cell_type": "code",
   "execution_count": 46,
   "metadata": {},
   "outputs": [
    {
     "output_type": "execute_result",
     "data": {
      "text/plain": [
       "array([5, 6, 7])"
      ]
     },
     "metadata": {},
     "execution_count": 46
    }
   ],
   "source": [
    "#スライスへの変更が元のndarrayに反映されることに注意（元のndarrayのコピー（新規オブジェクト）ではない）\n",
    "arr=np.arange(10)\n",
    "arr_slice=arr[5:8]\n",
    "arr_slice"
   ]
  },
  {
   "cell_type": "code",
   "execution_count": 47,
   "metadata": {},
   "outputs": [
    {
     "output_type": "stream",
     "name": "stdout",
     "text": [
      "[100   6   7]\n[  0   1   2   3   4 100   6   7   8   9]\n"
     ]
    }
   ],
   "source": [
    "arr_slice[0]=100\n",
    "print(arr_slice)\n",
    "print(arr)  #変更が元のndarrayにも適用される"
   ]
  },
  {
   "cell_type": "code",
   "execution_count": 49,
   "metadata": {},
   "outputs": [
    {
     "output_type": "stream",
     "name": "stdout",
     "text": [
      "[200   6   7]\n[  0   1   2   3   4 100   6   7   8   9]\n"
     ]
    }
   ],
   "source": [
    "#スライスをビューではなくndarrayからコピーして生成する必要がある場合\n",
    "arr_slice2=arr[5:8].copy()  #arr_slice2は別の新規オブジェクトになる\n",
    "arr_slice2[0]=200\n",
    "print(arr_slice2)\n",
    "print(arr)"
   ]
  },
  {
   "cell_type": "code",
   "execution_count": 51,
   "metadata": {},
   "outputs": [
    {
     "output_type": "execute_result",
     "data": {
      "text/plain": [
       "array([4, 5, 6])"
      ]
     },
     "metadata": {},
     "execution_count": 51
    }
   ],
   "source": [
    "#2次元以上の高次元配列へのアクセス方法\n",
    "arr2d=np.array([[1,2,3],[4,5,6]])\n",
    "arr2d[1]"
   ]
  },
  {
   "cell_type": "code",
   "execution_count": 53,
   "metadata": {},
   "outputs": [
    {
     "output_type": "execute_result",
     "data": {
      "text/plain": [
       "2"
      ]
     },
     "metadata": {},
     "execution_count": 53
    }
   ],
   "source": [
    "arr2d[0][1]"
   ]
  },
  {
   "cell_type": "code",
   "execution_count": 54,
   "metadata": {},
   "outputs": [
    {
     "output_type": "execute_result",
     "data": {
      "text/plain": [
       "2"
      ]
     },
     "metadata": {},
     "execution_count": 54
    }
   ],
   "source": [
    "arr2d[0,1]"
   ]
  },
  {
   "cell_type": "code",
   "execution_count": 57,
   "metadata": {},
   "outputs": [
    {
     "output_type": "execute_result",
     "data": {
      "text/plain": [
       "array([[[ 1,  2,  3],\n",
       "        [ 4,  5,  6]],\n",
       "\n",
       "       [[ 7,  8,  9],\n",
       "        [10, 11, 12]]])"
      ]
     },
     "metadata": {},
     "execution_count": 57
    }
   ],
   "source": [
    "#多次元配列のインデックス参照では後方のインデックスを省略することができる\n",
    "arr3d=np.array([[[1,2,3],[4,5,6]],[[7,8,9],[10,11,12]]])\n",
    "arr3d"
   ]
  },
  {
   "cell_type": "code",
   "execution_count": 58,
   "metadata": {},
   "outputs": [
    {
     "output_type": "execute_result",
     "data": {
      "text/plain": [
       "array([[1, 2, 3],\n",
       "       [4, 5, 6]])"
      ]
     },
     "metadata": {},
     "execution_count": 58
    }
   ],
   "source": [
    "arr3d[0]"
   ]
  },
  {
   "cell_type": "code",
   "execution_count": 59,
   "metadata": {},
   "outputs": [
    {
     "output_type": "execute_result",
     "data": {
      "text/plain": [
       "array([[[42, 42, 42],\n",
       "        [42, 42, 42]],\n",
       "\n",
       "       [[ 7,  8,  9],\n",
       "        [10, 11, 12]]])"
      ]
     },
     "metadata": {},
     "execution_count": 59
    }
   ],
   "source": [
    "old_values=arr3d[0].copy()\n",
    "arr3d[0]=42 #スカラーを代入することができる\n",
    "arr3d"
   ]
  },
  {
   "cell_type": "code",
   "execution_count": 60,
   "metadata": {},
   "outputs": [
    {
     "output_type": "execute_result",
     "data": {
      "text/plain": [
       "array([[[ 1,  2,  3],\n",
       "        [ 4,  5,  6]],\n",
       "\n",
       "       [[ 7,  8,  9],\n",
       "        [10, 11, 12]]])"
      ]
     },
     "metadata": {},
     "execution_count": 60
    }
   ],
   "source": [
    "arr3d[0]=old_values #ndarrayを代入することもできる\n",
    "arr3d"
   ]
  },
  {
   "cell_type": "code",
   "execution_count": 61,
   "metadata": {},
   "outputs": [
    {
     "output_type": "execute_result",
     "data": {
      "text/plain": [
       "array([7, 8, 9])"
      ]
     },
     "metadata": {},
     "execution_count": 61
    }
   ],
   "source": [
    "arr3d[1,0]"
   ]
  },
  {
   "source": [
    "#### 4.1.4.1 スライスによるインデックス参照"
   ],
   "cell_type": "markdown",
   "metadata": {}
  },
  {
   "cell_type": "code",
   "execution_count": 62,
   "metadata": {},
   "outputs": [
    {
     "output_type": "execute_result",
     "data": {
      "text/plain": [
       "array([ 1,  2,  3,  4, 64, 64, 64,  8,  9])"
      ]
     },
     "metadata": {},
     "execution_count": 62
    }
   ],
   "source": [
    "#１次元配列のスライシング\n",
    "arr=np.array([1,2,3,4,64,64,64,8,9])\n",
    "arr"
   ]
  },
  {
   "cell_type": "code",
   "execution_count": 63,
   "metadata": {},
   "outputs": [
    {
     "output_type": "execute_result",
     "data": {
      "text/plain": [
       "array([ 2,  3,  4, 64, 64])"
      ]
     },
     "metadata": {},
     "execution_count": 63
    }
   ],
   "source": [
    "arr[1:6]"
   ]
  },
  {
   "cell_type": "code",
   "execution_count": 66,
   "metadata": {},
   "outputs": [
    {
     "output_type": "execute_result",
     "data": {
      "text/plain": [
       "array([[1, 2, 3],\n",
       "       [4, 5, 6],\n",
       "       [7, 8, 9]])"
      ]
     },
     "metadata": {},
     "execution_count": 66
    }
   ],
   "source": [
    "#2次元配列のスライシング\n",
    "arr2d=np.array([[1,2,3],[4,5,6],[7,8,9]])\n",
    "arr2d"
   ]
  },
  {
   "cell_type": "code",
   "execution_count": 67,
   "metadata": {},
   "outputs": [
    {
     "output_type": "execute_result",
     "data": {
      "text/plain": [
       "array([[1, 2, 3],\n",
       "       [4, 5, 6]])"
      ]
     },
     "metadata": {},
     "execution_count": 67
    }
   ],
   "source": [
    "arr2d[:2]   #2行目まで切り出す"
   ]
  },
  {
   "cell_type": "code",
   "execution_count": 68,
   "metadata": {},
   "outputs": [
    {
     "output_type": "execute_result",
     "data": {
      "text/plain": [
       "array([[2, 3],\n",
       "       [5, 6]])"
      ]
     },
     "metadata": {},
     "execution_count": 68
    }
   ],
   "source": [
    "arr2d[:2,1:]    #2行目までの2列目以降を切り出す"
   ]
  },
  {
   "cell_type": "code",
   "execution_count": 69,
   "metadata": {},
   "outputs": [
    {
     "output_type": "execute_result",
     "data": {
      "text/plain": [
       "array([4, 5])"
      ]
     },
     "metadata": {},
     "execution_count": 69
    }
   ],
   "source": [
    "arr2d[1,:2] #2行目の2列目まで切り出す"
   ]
  },
  {
   "cell_type": "code",
   "execution_count": 70,
   "metadata": {},
   "outputs": [
    {
     "output_type": "execute_result",
     "data": {
      "text/plain": [
       "array([3, 6])"
      ]
     },
     "metadata": {},
     "execution_count": 70
    }
   ],
   "source": [
    "arr2d[:2,2] #2行目までの3列目のみ切り出す"
   ]
  },
  {
   "cell_type": "code",
   "execution_count": 71,
   "metadata": {},
   "outputs": [
    {
     "output_type": "execute_result",
     "data": {
      "text/plain": [
       "array([[1],\n",
       "       [4],\n",
       "       [7]])"
      ]
     },
     "metadata": {},
     "execution_count": 71
    }
   ],
   "source": [
    "#単独のコロン：は軸全体を表す\n",
    "arr2d[:,:1] #全ての行の1列目のみ切り出す"
   ]
  },
  {
   "cell_type": "code",
   "execution_count": 72,
   "metadata": {},
   "outputs": [
    {
     "output_type": "execute_result",
     "data": {
      "text/plain": [
       "array([[1, 0, 0],\n",
       "       [4, 0, 0],\n",
       "       [7, 8, 9]])"
      ]
     },
     "metadata": {},
     "execution_count": 72
    }
   ],
   "source": [
    "#スライス表記へのスカラー値の代入は、その範囲の要素すべてに対する代入を意味する\n",
    "arr2d[:2,1:]=0\n",
    "arr2d"
   ]
  },
  {
   "source": [
    "### 4.1.5 ブールインデックス参照"
   ],
   "cell_type": "markdown",
   "metadata": {}
  },
  {
   "cell_type": "code",
   "execution_count": 73,
   "metadata": {},
   "outputs": [
    {
     "output_type": "execute_result",
     "data": {
      "text/plain": [
       "array(['Bob', 'Joe', 'Will', 'Bob', 'Will', 'Joe', 'Joe'], dtype='<U4')"
      ]
     },
     "metadata": {},
     "execution_count": 73
    }
   ],
   "source": [
    "names=np.array(['Bob','Joe','Will','Bob','Will','Joe','Joe'])\n",
    "data=np.random.randn(7,4)\n",
    "names"
   ]
  },
  {
   "cell_type": "code",
   "execution_count": 74,
   "metadata": {},
   "outputs": [
    {
     "output_type": "execute_result",
     "data": {
      "text/plain": [
       "array([[-0.90069764,  1.34761917,  0.91263554, -0.01773645],\n",
       "       [-1.10692115, -0.9915654 ,  1.71594173,  2.11988485],\n",
       "       [ 0.33111556, -0.63017224,  0.42194517,  0.34479696],\n",
       "       [-0.68768566,  0.42374614, -0.73176742,  1.22827228],\n",
       "       [-0.5881867 , -0.44843902, -1.74213487, -0.31977918],\n",
       "       [ 0.25977065, -0.12938464,  0.21154536,  0.95211184],\n",
       "       [ 0.23727349,  0.0305874 , -0.88941902,  0.05520465]])"
      ]
     },
     "metadata": {},
     "execution_count": 74
    }
   ],
   "source": [
    "data"
   ]
  },
  {
   "cell_type": "code",
   "execution_count": 75,
   "metadata": {},
   "outputs": [
    {
     "output_type": "execute_result",
     "data": {
      "text/plain": [
       "array([ True, False, False,  True, False, False, False])"
      ]
     },
     "metadata": {},
     "execution_count": 75
    }
   ],
   "source": [
    "#namesの各要素が'Bob'であるかを示す真偽値配列を得る\n",
    "names=='Bob'"
   ]
  },
  {
   "cell_type": "code",
   "execution_count": 76,
   "metadata": {},
   "outputs": [
    {
     "output_type": "execute_result",
     "data": {
      "text/plain": [
       "array([[-0.90069764,  1.34761917,  0.91263554, -0.01773645],\n",
       "       [-0.68768566,  0.42374614, -0.73176742,  1.22827228]])"
      ]
     },
     "metadata": {},
     "execution_count": 76
    }
   ],
   "source": [
    "#真偽値配列をdataのインデックスとして渡すことができる\n",
    "data[names=='Bob']"
   ]
  },
  {
   "cell_type": "code",
   "execution_count": 77,
   "metadata": {},
   "outputs": [
    {
     "output_type": "execute_result",
     "data": {
      "text/plain": [
       "array([[ 0.91263554, -0.01773645],\n",
       "       [-0.73176742,  1.22827228]])"
      ]
     },
     "metadata": {},
     "execution_count": 77
    }
   ],
   "source": [
    "#names=='Bob'という条件に加え、列のスライスやインデックスも同時に指定できる\n",
    "data[names=='Bob',2:]   #names=='Bob'を満たす行の3列目以降を切り出す"
   ]
  },
  {
   "cell_type": "code",
   "execution_count": 78,
   "metadata": {},
   "outputs": [
    {
     "output_type": "execute_result",
     "data": {
      "text/plain": [
       "array([-0.01773645,  1.22827228])"
      ]
     },
     "metadata": {},
     "execution_count": 78
    }
   ],
   "source": [
    "data[names=='Bob',3]"
   ]
  },
  {
   "cell_type": "code",
   "execution_count": 79,
   "metadata": {},
   "outputs": [
    {
     "output_type": "execute_result",
     "data": {
      "text/plain": [
       "array([False,  True,  True, False,  True,  True,  True])"
      ]
     },
     "metadata": {},
     "execution_count": 79
    }
   ],
   "source": [
    "#'Bob'以外がTrueとなる真偽値配列を生成\n",
    "names!='Bob'"
   ]
  },
  {
   "cell_type": "code",
   "execution_count": 80,
   "metadata": {},
   "outputs": [
    {
     "output_type": "execute_result",
     "data": {
      "text/plain": [
       "array([[-1.10692115, -0.9915654 ,  1.71594173,  2.11988485],\n",
       "       [ 0.33111556, -0.63017224,  0.42194517,  0.34479696],\n",
       "       [-0.5881867 , -0.44843902, -1.74213487, -0.31977918],\n",
       "       [ 0.25977065, -0.12938464,  0.21154536,  0.95211184],\n",
       "       [ 0.23727349,  0.0305874 , -0.88941902,  0.05520465]])"
      ]
     },
     "metadata": {},
     "execution_count": 80
    }
   ],
   "source": [
    "data[names!='Bob']"
   ]
  },
  {
   "cell_type": "code",
   "execution_count": 82,
   "metadata": {},
   "outputs": [
    {
     "output_type": "execute_result",
     "data": {
      "text/plain": [
       "array([[-1.10692115, -0.9915654 ,  1.71594173,  2.11988485],\n",
       "       [ 0.33111556, -0.63017224,  0.42194517,  0.34479696],\n",
       "       [-0.5881867 , -0.44843902, -1.74213487, -0.31977918],\n",
       "       [ 0.25977065, -0.12938464,  0.21154536,  0.95211184],\n",
       "       [ 0.23727349,  0.0305874 , -0.88941902,  0.05520465]])"
      ]
     },
     "metadata": {},
     "execution_count": 82
    }
   ],
   "source": [
    "#演算子 ~ は条件式の結果を反転させる\n",
    "cond=names=='Bob'\n",
    "data[~cond]"
   ]
  },
  {
   "cell_type": "code",
   "execution_count": 84,
   "metadata": {},
   "outputs": [
    {
     "output_type": "execute_result",
     "data": {
      "text/plain": [
       "array([ True, False,  True,  True,  True, False, False])"
      ]
     },
     "metadata": {},
     "execution_count": 84
    }
   ],
   "source": [
    "#２つあるいは３つの条件を組み合わせるなど、複数条件の結合もできる\n",
    "mask=(names=='Bob')|(names=='Will')     #'Bob'か'Will'ならTrue. 真偽値配列にはPythonキーワードのandやorは使えないため、論理演算子&(and)や|(or)を使う.\n",
    "mask"
   ]
  },
  {
   "cell_type": "code",
   "execution_count": 85,
   "metadata": {},
   "outputs": [
    {
     "output_type": "execute_result",
     "data": {
      "text/plain": [
       "array([[-0.90069764,  1.34761917,  0.91263554, -0.01773645],\n",
       "       [ 0.33111556, -0.63017224,  0.42194517,  0.34479696],\n",
       "       [-0.68768566,  0.42374614, -0.73176742,  1.22827228],\n",
       "       [-0.5881867 , -0.44843902, -1.74213487, -0.31977918]])"
      ]
     },
     "metadata": {},
     "execution_count": 85
    }
   ],
   "source": [
    "data[mask]"
   ]
  },
  {
   "cell_type": "code",
   "execution_count": 86,
   "metadata": {},
   "outputs": [
    {
     "output_type": "execute_result",
     "data": {
      "text/plain": [
       "array([[0.        , 1.34761917, 0.91263554, 0.        ],\n",
       "       [0.        , 0.        , 1.71594173, 2.11988485],\n",
       "       [0.33111556, 0.        , 0.42194517, 0.34479696],\n",
       "       [0.        , 0.42374614, 0.        , 1.22827228],\n",
       "       [0.        , 0.        , 0.        , 0.        ],\n",
       "       [0.25977065, 0.        , 0.21154536, 0.95211184],\n",
       "       [0.23727349, 0.0305874 , 0.        , 0.05520465]])"
      ]
     },
     "metadata": {},
     "execution_count": 86
    }
   ],
   "source": [
    "#dataの要素の内、負の値を持つものを全て0にする\n",
    "data[data<0]=0\n",
    "data"
   ]
  },
  {
   "cell_type": "code",
   "execution_count": 87,
   "metadata": {},
   "outputs": [
    {
     "output_type": "execute_result",
     "data": {
      "text/plain": [
       "array([[7.        , 7.        , 7.        , 7.        ],\n",
       "       [0.        , 0.        , 1.71594173, 2.11988485],\n",
       "       [7.        , 7.        , 7.        , 7.        ],\n",
       "       [7.        , 7.        , 7.        , 7.        ],\n",
       "       [7.        , 7.        , 7.        , 7.        ],\n",
       "       [0.25977065, 0.        , 0.21154536, 0.95211184],\n",
       "       [0.23727349, 0.0305874 , 0.        , 0.05520465]])"
      ]
     },
     "metadata": {},
     "execution_count": 87
    }
   ],
   "source": [
    "#特定の行や列に対する操作も真偽値配列を使えば簡単\n",
    "data[names!='Joe']=7\n",
    "data"
   ]
  },
  {
   "source": [
    "### 4.1.6 ファンシーインデックス参照\n",
    "スライシングと異なり、ファンシーインデックス参照は常に元のarrayのコピーを返すため注意"
   ],
   "cell_type": "markdown",
   "metadata": {}
  },
  {
   "cell_type": "code",
   "execution_count": 3,
   "metadata": {},
   "outputs": [
    {
     "output_type": "execute_result",
     "data": {
      "text/plain": [
       "array([[0., 0., 0., 0.],\n",
       "       [1., 1., 1., 1.],\n",
       "       [2., 2., 2., 2.],\n",
       "       [3., 3., 3., 3.],\n",
       "       [4., 4., 4., 4.],\n",
       "       [5., 5., 5., 5.],\n",
       "       [6., 6., 6., 6.],\n",
       "       [7., 7., 7., 7.]])"
      ]
     },
     "metadata": {},
     "execution_count": 3
    }
   ],
   "source": [
    "arr=np.empty((8,4))\n",
    "for i in range(8):\n",
    "    arr[i]=i\n",
    "\n",
    "arr"
   ]
  },
  {
   "cell_type": "code",
   "execution_count": 4,
   "metadata": {},
   "outputs": [
    {
     "output_type": "execute_result",
     "data": {
      "text/plain": [
       "array([[4., 4., 4., 4.],\n",
       "       [3., 3., 3., 3.],\n",
       "       [0., 0., 0., 0.],\n",
       "       [6., 6., 6., 6.]])"
      ]
     },
     "metadata": {},
     "execution_count": 4
    }
   ],
   "source": [
    "#arrから特定の順序で行を抽出するには。その順番を示す整数のリスト、あるいはndarrayをインデックス参照として渡す\n",
    "arr[[4,3,0,6]]"
   ]
  },
  {
   "cell_type": "code",
   "execution_count": 5,
   "metadata": {},
   "outputs": [
    {
     "output_type": "execute_result",
     "data": {
      "text/plain": [
       "array([[5., 5., 5., 5.],\n",
       "       [3., 3., 3., 3.],\n",
       "       [1., 1., 1., 1.]])"
      ]
     },
     "metadata": {},
     "execution_count": 5
    }
   ],
   "source": [
    "#負数のインデックス\n",
    "arr[[-3,-5,-7]]"
   ]
  },
  {
   "cell_type": "code",
   "execution_count": 3,
   "metadata": {},
   "outputs": [
    {
     "output_type": "execute_result",
     "data": {
      "text/plain": [
       "array([[ 0,  1,  2,  3],\n",
       "       [ 4,  5,  6,  7],\n",
       "       [ 8,  9, 10, 11],\n",
       "       [12, 13, 14, 15],\n",
       "       [16, 17, 18, 19],\n",
       "       [20, 21, 22, 23],\n",
       "       [24, 25, 26, 27],\n",
       "       [28, 29, 30, 31]])"
      ]
     },
     "metadata": {},
     "execution_count": 3
    }
   ],
   "source": [
    "#2次元配列に対して複数のインデックス配列を指定する例\n",
    "arr=np.arange(32).reshape((8,4))\n",
    "arr"
   ]
  },
  {
   "cell_type": "code",
   "execution_count": 4,
   "metadata": {},
   "outputs": [
    {
     "output_type": "execute_result",
     "data": {
      "text/plain": [
       "array([ 4, 23, 29, 10])"
      ]
     },
     "metadata": {},
     "execution_count": 4
    }
   ],
   "source": [
    "arr[[1,5,7,2],[0,3,1,2]]    #(1,0),(5,3),(7,1),(2,2)の位置にある要素を抜き出す"
   ]
  },
  {
   "cell_type": "code",
   "execution_count": 7,
   "metadata": {},
   "outputs": [
    {
     "output_type": "execute_result",
     "data": {
      "text/plain": [
       "array([[ 4,  7,  5,  6],\n",
       "       [20, 23, 21, 22],\n",
       "       [28, 31, 29, 30],\n",
       "       [ 8, 11,  9, 10]])"
      ]
     },
     "metadata": {},
     "execution_count": 7
    }
   ],
   "source": [
    "arr[[1,5,7,2]][:,[0,3,1,2]] #まず[1,5,7,2]で行を抜き出し、[0,3,1,2]の順に列を入れ替えた配列を返す"
   ]
  },
  {
   "cell_type": "code",
   "execution_count": 9,
   "metadata": {},
   "outputs": [
    {
     "output_type": "execute_result",
     "data": {
      "text/plain": [
       "array([[ 4,  5,  6,  7],\n",
       "       [ 8,  9, 10, 11],\n",
       "       [20, 21, 22, 23],\n",
       "       [28, 29, 30, 31]])"
      ]
     },
     "metadata": {},
     "execution_count": 9
    }
   ],
   "source": [
    "arr[[1,5,7,2]][[0,3,1,2]]   #[1,5,7,2]で行を抜き出し、[0,3,1,2]の順に行を並び替える"
   ]
  },
  {
   "source": [
    "### 4.1.7 転置行列、行と列の並び替え"
   ],
   "cell_type": "markdown",
   "metadata": {}
  },
  {
   "cell_type": "code",
   "execution_count": 14,
   "metadata": {},
   "outputs": [
    {
     "output_type": "execute_result",
     "data": {
      "text/plain": [
       "array([[[ 0,  1,  2,  3],\n",
       "        [ 4,  5,  6,  7]],\n",
       "\n",
       "       [[ 8,  9, 10, 11],\n",
       "        [12, 13, 14, 15]]])"
      ]
     },
     "metadata": {},
     "execution_count": 14
    }
   ],
   "source": [
    "arr=np.arange(16).reshape((2,2,4))\n",
    "arr"
   ]
  },
  {
   "cell_type": "code",
   "execution_count": 15,
   "metadata": {},
   "outputs": [
    {
     "output_type": "execute_result",
     "data": {
      "text/plain": [
       "array([[[ 0,  8],\n",
       "        [ 4, 12]],\n",
       "\n",
       "       [[ 1,  9],\n",
       "        [ 5, 13]],\n",
       "\n",
       "       [[ 2, 10],\n",
       "        [ 6, 14]],\n",
       "\n",
       "       [[ 3, 11],\n",
       "        [ 7, 15]]])"
      ]
     },
     "metadata": {},
     "execution_count": 15
    }
   ],
   "source": [
    "arr.T"
   ]
  },
  {
   "cell_type": "code",
   "execution_count": 16,
   "metadata": {},
   "outputs": [
    {
     "output_type": "execute_result",
     "data": {
      "text/plain": [
       "array([[[ 0,  1,  2,  3],\n",
       "        [ 8,  9, 10, 11]],\n",
       "\n",
       "       [[ 4,  5,  6,  7],\n",
       "        [12, 13, 14, 15]]])"
      ]
     },
     "metadata": {},
     "execution_count": 16
    }
   ],
   "source": [
    "arr.transpose((1,0,2))"
   ]
  },
  {
   "cell_type": "code",
   "execution_count": 17,
   "metadata": {},
   "outputs": [
    {
     "output_type": "execute_result",
     "data": {
      "text/plain": [
       "array([[[ 0,  4],\n",
       "        [ 1,  5],\n",
       "        [ 2,  6],\n",
       "        [ 3,  7]],\n",
       "\n",
       "       [[ 8, 12],\n",
       "        [ 9, 13],\n",
       "        [10, 14],\n",
       "        [11, 15]]])"
      ]
     },
     "metadata": {},
     "execution_count": 17
    }
   ],
   "source": [
    "#swapaxesは任意の軸順序で転置できる\n",
    "arr.swapaxes(1,2)   #axis=1と2を入れ替える"
   ]
  },
  {
   "cell_type": "code",
   "execution_count": 18,
   "metadata": {},
   "outputs": [
    {
     "output_type": "execute_result",
     "data": {
      "text/plain": [
       "array([[[ 0,  8],\n",
       "        [ 4, 12]],\n",
       "\n",
       "       [[ 1,  9],\n",
       "        [ 5, 13]],\n",
       "\n",
       "       [[ 2, 10],\n",
       "        [ 6, 14]],\n",
       "\n",
       "       [[ 3, 11],\n",
       "        [ 7, 15]]])"
      ]
     },
     "metadata": {},
     "execution_count": 18
    }
   ],
   "source": [
    "arr.swapaxes(0,2)   #axis=0と2を入れ替える"
   ]
  },
  {
   "source": [
    "## 4.2 ユニバーサル関数：すべての配列要素への関数適用\n",
    "* 単項ufunc: 引数に一つのndarrayをとる\n",
    "* 二項ufunc: 引数に二つのndarrayをとる"
   ],
   "cell_type": "markdown",
   "metadata": {}
  },
  {
   "cell_type": "code",
   "execution_count": 20,
   "metadata": {},
   "outputs": [
    {
     "output_type": "execute_result",
     "data": {
      "text/plain": [
       "array([0, 1, 2, 3, 4, 5, 6, 7, 8, 9])"
      ]
     },
     "metadata": {},
     "execution_count": 20
    }
   ],
   "source": [
    "arr=np.arange(10)\n",
    "arr"
   ]
  },
  {
   "cell_type": "code",
   "execution_count": 21,
   "metadata": {},
   "outputs": [
    {
     "output_type": "execute_result",
     "data": {
      "text/plain": [
       "array([0.        , 1.        , 1.41421356, 1.73205081, 2.        ,\n",
       "       2.23606798, 2.44948974, 2.64575131, 2.82842712, 3.        ])"
      ]
     },
     "metadata": {},
     "execution_count": 21
    }
   ],
   "source": [
    "np.sqrt(arr)"
   ]
  },
  {
   "cell_type": "code",
   "execution_count": 22,
   "metadata": {},
   "outputs": [
    {
     "output_type": "execute_result",
     "data": {
      "text/plain": [
       "array([1.00000000e+00, 2.71828183e+00, 7.38905610e+00, 2.00855369e+01,\n",
       "       5.45981500e+01, 1.48413159e+02, 4.03428793e+02, 1.09663316e+03,\n",
       "       2.98095799e+03, 8.10308393e+03])"
      ]
     },
     "metadata": {},
     "execution_count": 22
    }
   ],
   "source": [
    "np.exp(arr)"
   ]
  },
  {
   "cell_type": "code",
   "execution_count": 25,
   "metadata": {},
   "outputs": [
    {
     "output_type": "execute_result",
     "data": {
      "text/plain": [
       "array([ 0.45221513,  0.81014996, -1.30150138,  0.38427352, -1.50248551,\n",
       "       -0.8222868 , -0.83024432,  1.21320065])"
      ]
     },
     "metadata": {},
     "execution_count": 25
    }
   ],
   "source": [
    "x=np.random.randn(8)\n",
    "x"
   ]
  },
  {
   "cell_type": "code",
   "execution_count": 26,
   "metadata": {},
   "outputs": [
    {
     "output_type": "execute_result",
     "data": {
      "text/plain": [
       "array([-0.52997826, -1.4342816 ,  0.22781119,  0.47960166,  0.40229972,\n",
       "        0.35475168,  1.59387157,  0.62257707])"
      ]
     },
     "metadata": {},
     "execution_count": 26
    }
   ],
   "source": [
    "y=np.random.randn(8)\n",
    "y"
   ]
  },
  {
   "cell_type": "code",
   "execution_count": 27,
   "metadata": {},
   "outputs": [
    {
     "output_type": "execute_result",
     "data": {
      "text/plain": [
       "array([0.45221513, 0.81014996, 0.22781119, 0.47960166, 0.40229972,\n",
       "       0.35475168, 1.59387157, 1.21320065])"
      ]
     },
     "metadata": {},
     "execution_count": 27
    }
   ],
   "source": [
    "np.maximum(x,y) #要素ごとに比較して大きい方を返す"
   ]
  },
  {
   "cell_type": "code",
   "execution_count": 29,
   "metadata": {},
   "outputs": [
    {
     "output_type": "execute_result",
     "data": {
      "text/plain": [
       "array([ 3.56532349, -1.68473633, -7.98988355,  9.76432048, -7.16538901,\n",
       "        5.89072996, -0.46480602])"
      ]
     },
     "metadata": {},
     "execution_count": 29
    }
   ],
   "source": [
    "arr=np.random.randn(7)*5\n",
    "arr"
   ]
  },
  {
   "cell_type": "code",
   "execution_count": 30,
   "metadata": {},
   "outputs": [],
   "source": [
    "remainder,whole_part=np.modf(arr)   #各要素の実数部分と小数部分を分ける（二つのarrayを返す）"
   ]
  },
  {
   "cell_type": "code",
   "execution_count": 31,
   "metadata": {},
   "outputs": [
    {
     "output_type": "execute_result",
     "data": {
      "text/plain": [
       "array([ 0.56532349, -0.68473633, -0.98988355,  0.76432048, -0.16538901,\n",
       "        0.89072996, -0.46480602])"
      ]
     },
     "metadata": {},
     "execution_count": 31
    }
   ],
   "source": [
    "remainder"
   ]
  },
  {
   "cell_type": "code",
   "execution_count": 32,
   "metadata": {},
   "outputs": [
    {
     "output_type": "execute_result",
     "data": {
      "text/plain": [
       "array([ 3., -1., -7.,  9., -7.,  5., -0.])"
      ]
     },
     "metadata": {},
     "execution_count": 32
    }
   ],
   "source": [
    "whole_part"
   ]
  },
  {
   "cell_type": "code",
   "execution_count": 33,
   "metadata": {},
   "outputs": [
    {
     "output_type": "execute_result",
     "data": {
      "text/plain": [
       "array([ 3.56532349, -1.68473633, -7.98988355,  9.76432048, -7.16538901,\n",
       "        5.89072996, -0.46480602])"
      ]
     },
     "metadata": {},
     "execution_count": 33
    }
   ],
   "source": [
    "#ufuncには補助的にout引数を渡すことができ、これを用いると対象のndarrayを直接変更できる\n",
    "arr"
   ]
  },
  {
   "cell_type": "code",
   "execution_count": 34,
   "metadata": {},
   "outputs": [
    {
     "output_type": "execute_result",
     "data": {
      "text/plain": [
       "array([1.88820642,        nan,        nan, 3.12479127,        nan,\n",
       "       2.4270826 ,        nan])"
      ]
     },
     "metadata": {},
     "execution_count": 34
    }
   ],
   "source": [
    "np.sqrt(arr)"
   ]
  },
  {
   "cell_type": "code",
   "execution_count": 35,
   "metadata": {},
   "outputs": [
    {
     "output_type": "execute_result",
     "data": {
      "text/plain": [
       "array([1.88820642,        nan,        nan, 3.12479127,        nan,\n",
       "       2.4270826 ,        nan])"
      ]
     },
     "metadata": {},
     "execution_count": 35
    }
   ],
   "source": [
    "np.sqrt(arr,arr)    #out引数を与える"
   ]
  },
  {
   "cell_type": "code",
   "execution_count": 36,
   "metadata": {},
   "outputs": [
    {
     "output_type": "execute_result",
     "data": {
      "text/plain": [
       "array([1.88820642,        nan,        nan, 3.12479127,        nan,\n",
       "       2.4270826 ,        nan])"
      ]
     },
     "metadata": {},
     "execution_count": 36
    }
   ],
   "source": [
    "arr #元のarrayが変更されている"
   ]
  },
  {
   "source": [
    "## 4.3 ndarrayによる配列指向プログラミング"
   ],
   "cell_type": "markdown",
   "metadata": {}
  },
  {
   "cell_type": "code",
   "execution_count": 37,
   "metadata": {},
   "outputs": [
    {
     "output_type": "execute_result",
     "data": {
      "text/plain": [
       "array([[-5.  , -5.  , -5.  , ..., -5.  , -5.  , -5.  ],\n",
       "       [-4.99, -4.99, -4.99, ..., -4.99, -4.99, -4.99],\n",
       "       [-4.98, -4.98, -4.98, ..., -4.98, -4.98, -4.98],\n",
       "       ...,\n",
       "       [ 4.97,  4.97,  4.97, ...,  4.97,  4.97,  4.97],\n",
       "       [ 4.98,  4.98,  4.98, ...,  4.98,  4.98,  4.98],\n",
       "       [ 4.99,  4.99,  4.99, ...,  4.99,  4.99,  4.99]])"
      ]
     },
     "metadata": {},
     "execution_count": 37
    }
   ],
   "source": [
    "points=np.arange(-5,5,0.01) #等間隔に配置された1000個の格子点\n",
    "xs,ys=np.meshgrid(points,points)    #二つの1次元配列を取り、それぞれの要素のすべての組み合わせを列挙する\n",
    "ys"
   ]
  },
  {
   "cell_type": "code",
   "execution_count": 38,
   "metadata": {},
   "outputs": [
    {
     "output_type": "execute_result",
     "data": {
      "text/plain": [
       "array([[7.07106781, 7.06400028, 7.05693985, ..., 7.04988652, 7.05693985,\n",
       "        7.06400028],\n",
       "       [7.06400028, 7.05692568, 7.04985815, ..., 7.04279774, 7.04985815,\n",
       "        7.05692568],\n",
       "       [7.05693985, 7.04985815, 7.04278354, ..., 7.03571603, 7.04278354,\n",
       "        7.04985815],\n",
       "       ...,\n",
       "       [7.04988652, 7.04279774, 7.03571603, ..., 7.0286414 , 7.03571603,\n",
       "        7.04279774],\n",
       "       [7.05693985, 7.04985815, 7.04278354, ..., 7.03571603, 7.04278354,\n",
       "        7.04985815],\n",
       "       [7.06400028, 7.05692568, 7.04985815, ..., 7.04279774, 7.04985815,\n",
       "        7.05692568]])"
      ]
     },
     "metadata": {},
     "execution_count": 38
    }
   ],
   "source": [
    "z=np.sqrt(xs**2+ys**2)\n",
    "z"
   ]
  },
  {
   "cell_type": "code",
   "execution_count": 41,
   "metadata": {},
   "outputs": [
    {
     "output_type": "execute_result",
     "data": {
      "text/plain": [
       "Text(0.5, 1.0, 'Image plot of $\\\\sqrt{x^2+y^2}$ for a grid of values')"
      ]
     },
     "metadata": {},
     "execution_count": 41
    },
    {
     "output_type": "display_data",
     "data": {
      "text/plain": "<Figure size 432x288 with 2 Axes>",
      "image/svg+xml": "<?xml version=\"1.0\" encoding=\"utf-8\" standalone=\"no\"?>\n<!DOCTYPE svg PUBLIC \"-//W3C//DTD SVG 1.1//EN\"\n  \"http://www.w3.org/Graphics/SVG/1.1/DTD/svg11.dtd\">\n<!-- Created with matplotlib (https://matplotlib.org/) -->\n<svg height=\"269.878125pt\" version=\"1.1\" viewBox=\"0 0 298.902 269.878125\" width=\"298.902pt\" xmlns=\"http://www.w3.org/2000/svg\" xmlns:xlink=\"http://www.w3.org/1999/xlink\">\n <metadata>\n  <rdf:RDF xmlns:cc=\"http://creativecommons.org/ns#\" xmlns:dc=\"http://purl.org/dc/elements/1.1/\" xmlns:rdf=\"http://www.w3.org/1999/02/22-rdf-syntax-ns#\">\n   <cc:Work>\n    <dc:type rdf:resource=\"http://purl.org/dc/dcmitype/StillImage\"/>\n    <dc:date>2021-02-16T13:21:41.048309</dc:date>\n    <dc:format>image/svg+xml</dc:format>\n    <dc:creator>\n     <cc:Agent>\n      <dc:title>Matplotlib v3.3.4, https://matplotlib.org/</dc:title>\n     </cc:Agent>\n    </dc:creator>\n   </cc:Work>\n  </rdf:RDF>\n </metadata>\n <defs>\n  <style type=\"text/css\">*{stroke-linecap:butt;stroke-linejoin:round;}</style>\n </defs>\n <g id=\"figure_1\">\n  <g id=\"patch_1\">\n   <path d=\"M 0 269.878125 \nL 298.902 269.878125 \nL 298.902 0 \nL 0 0 \nz\n\" style=\"fill:none;\"/>\n  </g>\n  <g id=\"axes_1\">\n   <g id=\"patch_2\">\n    <path d=\"M 33.2875 246 \nL 250.7275 246 \nL 250.7275 28.56 \nL 33.2875 28.56 \nz\n\" style=\"fill:#ffffff;\"/>\n   </g>\n   <g clip-path=\"url(#p885ecdb477)\">\n    <image height=\"218\" id=\"image4db52b0dca\" transform=\"scale(1 -1)translate(0 -218)\" width=\"218\" x=\"33.2875\" xlink:href=\"data:image/png;base64,\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\" y=\"-28\"/>\n   </g>\n   <g id=\"matplotlib.axis_1\">\n    <g id=\"xtick_1\">\n     <g id=\"line2d_1\">\n      <defs>\n       <path d=\"M 0 0 \nL 0 3.5 \n\" id=\"mae22c83ae3\" style=\"stroke:#000000;stroke-width:0.8;\"/>\n      </defs>\n      <g>\n       <use style=\"stroke:#000000;stroke-width:0.8;\" x=\"33.39622\" xlink:href=\"#mae22c83ae3\" y=\"246\"/>\n      </g>\n     </g>\n     <g id=\"text_1\">\n      <!-- 0 -->\n      <g transform=\"translate(30.21497 260.598437)scale(0.1 -0.1)\">\n       <defs>\n        <path d=\"M 31.78125 66.40625 \nQ 24.171875 66.40625 20.328125 58.90625 \nQ 16.5 51.421875 16.5 36.375 \nQ 16.5 21.390625 20.328125 13.890625 \nQ 24.171875 6.390625 31.78125 6.390625 \nQ 39.453125 6.390625 43.28125 13.890625 \nQ 47.125 21.390625 47.125 36.375 \nQ 47.125 51.421875 43.28125 58.90625 \nQ 39.453125 66.40625 31.78125 66.40625 \nz\nM 31.78125 74.21875 \nQ 44.046875 74.21875 50.515625 64.515625 \nQ 56.984375 54.828125 56.984375 36.375 \nQ 56.984375 17.96875 50.515625 8.265625 \nQ 44.046875 -1.421875 31.78125 -1.421875 \nQ 19.53125 -1.421875 13.0625 8.265625 \nQ 6.59375 17.96875 6.59375 36.375 \nQ 6.59375 54.828125 13.0625 64.515625 \nQ 19.53125 74.21875 31.78125 74.21875 \nz\n\" id=\"DejaVuSans-48\"/>\n       </defs>\n       <use xlink:href=\"#DejaVuSans-48\"/>\n      </g>\n     </g>\n    </g>\n    <g id=\"xtick_2\">\n     <g id=\"line2d_2\">\n      <g>\n       <use style=\"stroke:#000000;stroke-width:0.8;\" x=\"76.88422\" xlink:href=\"#mae22c83ae3\" y=\"246\"/>\n      </g>\n     </g>\n     <g id=\"text_2\">\n      <!-- 200 -->\n      <g transform=\"translate(67.34047 260.598437)scale(0.1 -0.1)\">\n       <defs>\n        <path d=\"M 19.1875 8.296875 \nL 53.609375 8.296875 \nL 53.609375 0 \nL 7.328125 0 \nL 7.328125 8.296875 \nQ 12.9375 14.109375 22.625 23.890625 \nQ 32.328125 33.6875 34.8125 36.53125 \nQ 39.546875 41.84375 41.421875 45.53125 \nQ 43.3125 49.21875 43.3125 52.78125 \nQ 43.3125 58.59375 39.234375 62.25 \nQ 35.15625 65.921875 28.609375 65.921875 \nQ 23.96875 65.921875 18.8125 64.3125 \nQ 13.671875 62.703125 7.8125 59.421875 \nL 7.8125 69.390625 \nQ 13.765625 71.78125 18.9375 73 \nQ 24.125 74.21875 28.421875 74.21875 \nQ 39.75 74.21875 46.484375 68.546875 \nQ 53.21875 62.890625 53.21875 53.421875 \nQ 53.21875 48.921875 51.53125 44.890625 \nQ 49.859375 40.875 45.40625 35.40625 \nQ 44.1875 33.984375 37.640625 27.21875 \nQ 31.109375 20.453125 19.1875 8.296875 \nz\n\" id=\"DejaVuSans-50\"/>\n       </defs>\n       <use xlink:href=\"#DejaVuSans-50\"/>\n       <use x=\"63.623047\" xlink:href=\"#DejaVuSans-48\"/>\n       <use x=\"127.246094\" xlink:href=\"#DejaVuSans-48\"/>\n      </g>\n     </g>\n    </g>\n    <g id=\"xtick_3\">\n     <g id=\"line2d_3\">\n      <g>\n       <use style=\"stroke:#000000;stroke-width:0.8;\" x=\"120.37222\" xlink:href=\"#mae22c83ae3\" y=\"246\"/>\n      </g>\n     </g>\n     <g id=\"text_3\">\n      <!-- 400 -->\n      <g transform=\"translate(110.82847 260.598437)scale(0.1 -0.1)\">\n       <defs>\n        <path d=\"M 37.796875 64.3125 \nL 12.890625 25.390625 \nL 37.796875 25.390625 \nz\nM 35.203125 72.90625 \nL 47.609375 72.90625 \nL 47.609375 25.390625 \nL 58.015625 25.390625 \nL 58.015625 17.1875 \nL 47.609375 17.1875 \nL 47.609375 0 \nL 37.796875 0 \nL 37.796875 17.1875 \nL 4.890625 17.1875 \nL 4.890625 26.703125 \nz\n\" id=\"DejaVuSans-52\"/>\n       </defs>\n       <use xlink:href=\"#DejaVuSans-52\"/>\n       <use x=\"63.623047\" xlink:href=\"#DejaVuSans-48\"/>\n       <use x=\"127.246094\" xlink:href=\"#DejaVuSans-48\"/>\n      </g>\n     </g>\n    </g>\n    <g id=\"xtick_4\">\n     <g id=\"line2d_4\">\n      <g>\n       <use style=\"stroke:#000000;stroke-width:0.8;\" x=\"163.86022\" xlink:href=\"#mae22c83ae3\" y=\"246\"/>\n      </g>\n     </g>\n     <g id=\"text_4\">\n      <!-- 600 -->\n      <g transform=\"translate(154.31647 260.598437)scale(0.1 -0.1)\">\n       <defs>\n        <path d=\"M 33.015625 40.375 \nQ 26.375 40.375 22.484375 35.828125 \nQ 18.609375 31.296875 18.609375 23.390625 \nQ 18.609375 15.53125 22.484375 10.953125 \nQ 26.375 6.390625 33.015625 6.390625 \nQ 39.65625 6.390625 43.53125 10.953125 \nQ 47.40625 15.53125 47.40625 23.390625 \nQ 47.40625 31.296875 43.53125 35.828125 \nQ 39.65625 40.375 33.015625 40.375 \nz\nM 52.59375 71.296875 \nL 52.59375 62.3125 \nQ 48.875 64.0625 45.09375 64.984375 \nQ 41.3125 65.921875 37.59375 65.921875 \nQ 27.828125 65.921875 22.671875 59.328125 \nQ 17.53125 52.734375 16.796875 39.40625 \nQ 19.671875 43.65625 24.015625 45.921875 \nQ 28.375 48.1875 33.59375 48.1875 \nQ 44.578125 48.1875 50.953125 41.515625 \nQ 57.328125 34.859375 57.328125 23.390625 \nQ 57.328125 12.15625 50.6875 5.359375 \nQ 44.046875 -1.421875 33.015625 -1.421875 \nQ 20.359375 -1.421875 13.671875 8.265625 \nQ 6.984375 17.96875 6.984375 36.375 \nQ 6.984375 53.65625 15.1875 63.9375 \nQ 23.390625 74.21875 37.203125 74.21875 \nQ 40.921875 74.21875 44.703125 73.484375 \nQ 48.484375 72.75 52.59375 71.296875 \nz\n\" id=\"DejaVuSans-54\"/>\n       </defs>\n       <use xlink:href=\"#DejaVuSans-54\"/>\n       <use x=\"63.623047\" xlink:href=\"#DejaVuSans-48\"/>\n       <use x=\"127.246094\" xlink:href=\"#DejaVuSans-48\"/>\n      </g>\n     </g>\n    </g>\n    <g id=\"xtick_5\">\n     <g id=\"line2d_5\">\n      <g>\n       <use style=\"stroke:#000000;stroke-width:0.8;\" x=\"207.34822\" xlink:href=\"#mae22c83ae3\" y=\"246\"/>\n      </g>\n     </g>\n     <g id=\"text_5\">\n      <!-- 800 -->\n      <g transform=\"translate(197.80447 260.598437)scale(0.1 -0.1)\">\n       <defs>\n        <path d=\"M 31.78125 34.625 \nQ 24.75 34.625 20.71875 30.859375 \nQ 16.703125 27.09375 16.703125 20.515625 \nQ 16.703125 13.921875 20.71875 10.15625 \nQ 24.75 6.390625 31.78125 6.390625 \nQ 38.8125 6.390625 42.859375 10.171875 \nQ 46.921875 13.96875 46.921875 20.515625 \nQ 46.921875 27.09375 42.890625 30.859375 \nQ 38.875 34.625 31.78125 34.625 \nz\nM 21.921875 38.8125 \nQ 15.578125 40.375 12.03125 44.71875 \nQ 8.5 49.078125 8.5 55.328125 \nQ 8.5 64.0625 14.71875 69.140625 \nQ 20.953125 74.21875 31.78125 74.21875 \nQ 42.671875 74.21875 48.875 69.140625 \nQ 55.078125 64.0625 55.078125 55.328125 \nQ 55.078125 49.078125 51.53125 44.71875 \nQ 48 40.375 41.703125 38.8125 \nQ 48.828125 37.15625 52.796875 32.3125 \nQ 56.78125 27.484375 56.78125 20.515625 \nQ 56.78125 9.90625 50.3125 4.234375 \nQ 43.84375 -1.421875 31.78125 -1.421875 \nQ 19.734375 -1.421875 13.25 4.234375 \nQ 6.78125 9.90625 6.78125 20.515625 \nQ 6.78125 27.484375 10.78125 32.3125 \nQ 14.796875 37.15625 21.921875 38.8125 \nz\nM 18.3125 54.390625 \nQ 18.3125 48.734375 21.84375 45.5625 \nQ 25.390625 42.390625 31.78125 42.390625 \nQ 38.140625 42.390625 41.71875 45.5625 \nQ 45.3125 48.734375 45.3125 54.390625 \nQ 45.3125 60.0625 41.71875 63.234375 \nQ 38.140625 66.40625 31.78125 66.40625 \nQ 25.390625 66.40625 21.84375 63.234375 \nQ 18.3125 60.0625 18.3125 54.390625 \nz\n\" id=\"DejaVuSans-56\"/>\n       </defs>\n       <use xlink:href=\"#DejaVuSans-56\"/>\n       <use x=\"63.623047\" xlink:href=\"#DejaVuSans-48\"/>\n       <use x=\"127.246094\" xlink:href=\"#DejaVuSans-48\"/>\n      </g>\n     </g>\n    </g>\n   </g>\n   <g id=\"matplotlib.axis_2\">\n    <g id=\"ytick_1\">\n     <g id=\"line2d_6\">\n      <defs>\n       <path d=\"M 0 0 \nL -3.5 0 \n\" id=\"md02d2419a5\" style=\"stroke:#000000;stroke-width:0.8;\"/>\n      </defs>\n      <g>\n       <use style=\"stroke:#000000;stroke-width:0.8;\" x=\"33.2875\" xlink:href=\"#md02d2419a5\" y=\"28.66872\"/>\n      </g>\n     </g>\n     <g id=\"text_6\">\n      <!-- 0 -->\n      <g transform=\"translate(19.925 32.467939)scale(0.1 -0.1)\">\n       <use xlink:href=\"#DejaVuSans-48\"/>\n      </g>\n     </g>\n    </g>\n    <g id=\"ytick_2\">\n     <g id=\"line2d_7\">\n      <g>\n       <use style=\"stroke:#000000;stroke-width:0.8;\" x=\"33.2875\" xlink:href=\"#md02d2419a5\" y=\"72.15672\"/>\n      </g>\n     </g>\n     <g id=\"text_7\">\n      <!-- 200 -->\n      <g transform=\"translate(7.2 75.955939)scale(0.1 -0.1)\">\n       <use xlink:href=\"#DejaVuSans-50\"/>\n       <use x=\"63.623047\" xlink:href=\"#DejaVuSans-48\"/>\n       <use x=\"127.246094\" xlink:href=\"#DejaVuSans-48\"/>\n      </g>\n     </g>\n    </g>\n    <g id=\"ytick_3\">\n     <g id=\"line2d_8\">\n      <g>\n       <use style=\"stroke:#000000;stroke-width:0.8;\" x=\"33.2875\" xlink:href=\"#md02d2419a5\" y=\"115.64472\"/>\n      </g>\n     </g>\n     <g id=\"text_8\">\n      <!-- 400 -->\n      <g transform=\"translate(7.2 119.443939)scale(0.1 -0.1)\">\n       <use xlink:href=\"#DejaVuSans-52\"/>\n       <use x=\"63.623047\" xlink:href=\"#DejaVuSans-48\"/>\n       <use x=\"127.246094\" xlink:href=\"#DejaVuSans-48\"/>\n      </g>\n     </g>\n    </g>\n    <g id=\"ytick_4\">\n     <g id=\"line2d_9\">\n      <g>\n       <use style=\"stroke:#000000;stroke-width:0.8;\" x=\"33.2875\" xlink:href=\"#md02d2419a5\" y=\"159.13272\"/>\n      </g>\n     </g>\n     <g id=\"text_9\">\n      <!-- 600 -->\n      <g transform=\"translate(7.2 162.931939)scale(0.1 -0.1)\">\n       <use xlink:href=\"#DejaVuSans-54\"/>\n       <use x=\"63.623047\" xlink:href=\"#DejaVuSans-48\"/>\n       <use x=\"127.246094\" xlink:href=\"#DejaVuSans-48\"/>\n      </g>\n     </g>\n    </g>\n    <g id=\"ytick_5\">\n     <g id=\"line2d_10\">\n      <g>\n       <use style=\"stroke:#000000;stroke-width:0.8;\" x=\"33.2875\" xlink:href=\"#md02d2419a5\" y=\"202.62072\"/>\n      </g>\n     </g>\n     <g id=\"text_10\">\n      <!-- 800 -->\n      <g transform=\"translate(7.2 206.419939)scale(0.1 -0.1)\">\n       <use xlink:href=\"#DejaVuSans-56\"/>\n       <use x=\"63.623047\" xlink:href=\"#DejaVuSans-48\"/>\n       <use x=\"127.246094\" xlink:href=\"#DejaVuSans-48\"/>\n      </g>\n     </g>\n    </g>\n   </g>\n   <g id=\"patch_3\">\n    <path d=\"M 33.2875 246 \nL 33.2875 28.56 \n\" style=\"fill:none;stroke:#000000;stroke-linecap:square;stroke-linejoin:miter;stroke-width:0.8;\"/>\n   </g>\n   <g id=\"patch_4\">\n    <path d=\"M 250.7275 246 \nL 250.7275 28.56 \n\" style=\"fill:none;stroke:#000000;stroke-linecap:square;stroke-linejoin:miter;stroke-width:0.8;\"/>\n   </g>\n   <g id=\"patch_5\">\n    <path d=\"M 33.2875 246 \nL 250.7275 246 \n\" style=\"fill:none;stroke:#000000;stroke-linecap:square;stroke-linejoin:miter;stroke-width:0.8;\"/>\n   </g>\n   <g id=\"patch_6\">\n    <path d=\"M 33.2875 28.56 \nL 250.7275 28.56 \n\" style=\"fill:none;stroke:#000000;stroke-linecap:square;stroke-linejoin:miter;stroke-width:0.8;\"/>\n   </g>\n   <g id=\"text_11\">\n    <!-- Image plot of $\\sqrt{x^2+y^2}$ for a grid of values -->\n    <g transform=\"translate(14.8075 22.56)scale(0.12 -0.12)\">\n     <defs>\n      <path d=\"M 9.8125 72.90625 \nL 19.671875 72.90625 \nL 19.671875 0 \nL 9.8125 0 \nz\n\" id=\"DejaVuSans-73\"/>\n      <path d=\"M 52 44.1875 \nQ 55.375 50.25 60.0625 53.125 \nQ 64.75 56 71.09375 56 \nQ 79.640625 56 84.28125 50.015625 \nQ 88.921875 44.046875 88.921875 33.015625 \nL 88.921875 0 \nL 79.890625 0 \nL 79.890625 32.71875 \nQ 79.890625 40.578125 77.09375 44.375 \nQ 74.3125 48.1875 68.609375 48.1875 \nQ 61.625 48.1875 57.5625 43.546875 \nQ 53.515625 38.921875 53.515625 30.90625 \nL 53.515625 0 \nL 44.484375 0 \nL 44.484375 32.71875 \nQ 44.484375 40.625 41.703125 44.40625 \nQ 38.921875 48.1875 33.109375 48.1875 \nQ 26.21875 48.1875 22.15625 43.53125 \nQ 18.109375 38.875 18.109375 30.90625 \nL 18.109375 0 \nL 9.078125 0 \nL 9.078125 54.6875 \nL 18.109375 54.6875 \nL 18.109375 46.1875 \nQ 21.1875 51.21875 25.484375 53.609375 \nQ 29.78125 56 35.6875 56 \nQ 41.65625 56 45.828125 52.96875 \nQ 50 49.953125 52 44.1875 \nz\n\" id=\"DejaVuSans-109\"/>\n      <path d=\"M 34.28125 27.484375 \nQ 23.390625 27.484375 19.1875 25 \nQ 14.984375 22.515625 14.984375 16.5 \nQ 14.984375 11.71875 18.140625 8.90625 \nQ 21.296875 6.109375 26.703125 6.109375 \nQ 34.1875 6.109375 38.703125 11.40625 \nQ 43.21875 16.703125 43.21875 25.484375 \nL 43.21875 27.484375 \nz\nM 52.203125 31.203125 \nL 52.203125 0 \nL 43.21875 0 \nL 43.21875 8.296875 \nQ 40.140625 3.328125 35.546875 0.953125 \nQ 30.953125 -1.421875 24.3125 -1.421875 \nQ 15.921875 -1.421875 10.953125 3.296875 \nQ 6 8.015625 6 15.921875 \nQ 6 25.140625 12.171875 29.828125 \nQ 18.359375 34.515625 30.609375 34.515625 \nL 43.21875 34.515625 \nL 43.21875 35.40625 \nQ 43.21875 41.609375 39.140625 45 \nQ 35.0625 48.390625 27.6875 48.390625 \nQ 23 48.390625 18.546875 47.265625 \nQ 14.109375 46.140625 10.015625 43.890625 \nL 10.015625 52.203125 \nQ 14.9375 54.109375 19.578125 55.046875 \nQ 24.21875 56 28.609375 56 \nQ 40.484375 56 46.34375 49.84375 \nQ 52.203125 43.703125 52.203125 31.203125 \nz\n\" id=\"DejaVuSans-97\"/>\n      <path d=\"M 45.40625 27.984375 \nQ 45.40625 37.75 41.375 43.109375 \nQ 37.359375 48.484375 30.078125 48.484375 \nQ 22.859375 48.484375 18.828125 43.109375 \nQ 14.796875 37.75 14.796875 27.984375 \nQ 14.796875 18.265625 18.828125 12.890625 \nQ 22.859375 7.515625 30.078125 7.515625 \nQ 37.359375 7.515625 41.375 12.890625 \nQ 45.40625 18.265625 45.40625 27.984375 \nz\nM 54.390625 6.78125 \nQ 54.390625 -7.171875 48.1875 -13.984375 \nQ 42 -20.796875 29.203125 -20.796875 \nQ 24.46875 -20.796875 20.265625 -20.09375 \nQ 16.0625 -19.390625 12.109375 -17.921875 \nL 12.109375 -9.1875 \nQ 16.0625 -11.328125 19.921875 -12.34375 \nQ 23.78125 -13.375 27.78125 -13.375 \nQ 36.625 -13.375 41.015625 -8.765625 \nQ 45.40625 -4.15625 45.40625 5.171875 \nL 45.40625 9.625 \nQ 42.625 4.78125 38.28125 2.390625 \nQ 33.9375 0 27.875 0 \nQ 17.828125 0 11.671875 7.65625 \nQ 5.515625 15.328125 5.515625 27.984375 \nQ 5.515625 40.671875 11.671875 48.328125 \nQ 17.828125 56 27.875 56 \nQ 33.9375 56 38.28125 53.609375 \nQ 42.625 51.21875 45.40625 46.390625 \nL 45.40625 54.6875 \nL 54.390625 54.6875 \nz\n\" id=\"DejaVuSans-103\"/>\n      <path d=\"M 56.203125 29.59375 \nL 56.203125 25.203125 \nL 14.890625 25.203125 \nQ 15.484375 15.921875 20.484375 11.0625 \nQ 25.484375 6.203125 34.421875 6.203125 \nQ 39.59375 6.203125 44.453125 7.46875 \nQ 49.3125 8.734375 54.109375 11.28125 \nL 54.109375 2.78125 \nQ 49.265625 0.734375 44.1875 -0.34375 \nQ 39.109375 -1.421875 33.890625 -1.421875 \nQ 20.796875 -1.421875 13.15625 6.1875 \nQ 5.515625 13.8125 5.515625 26.8125 \nQ 5.515625 40.234375 12.765625 48.109375 \nQ 20.015625 56 32.328125 56 \nQ 43.359375 56 49.78125 48.890625 \nQ 56.203125 41.796875 56.203125 29.59375 \nz\nM 47.21875 32.234375 \nQ 47.125 39.59375 43.09375 43.984375 \nQ 39.0625 48.390625 32.421875 48.390625 \nQ 24.90625 48.390625 20.390625 44.140625 \nQ 15.875 39.890625 15.1875 32.171875 \nz\n\" id=\"DejaVuSans-101\"/>\n      <path id=\"DejaVuSans-32\"/>\n      <path d=\"M 18.109375 8.203125 \nL 18.109375 -20.796875 \nL 9.078125 -20.796875 \nL 9.078125 54.6875 \nL 18.109375 54.6875 \nL 18.109375 46.390625 \nQ 20.953125 51.265625 25.265625 53.625 \nQ 29.59375 56 35.59375 56 \nQ 45.5625 56 51.78125 48.09375 \nQ 58.015625 40.1875 58.015625 27.296875 \nQ 58.015625 14.40625 51.78125 6.484375 \nQ 45.5625 -1.421875 35.59375 -1.421875 \nQ 29.59375 -1.421875 25.265625 0.953125 \nQ 20.953125 3.328125 18.109375 8.203125 \nz\nM 48.6875 27.296875 \nQ 48.6875 37.203125 44.609375 42.84375 \nQ 40.53125 48.484375 33.40625 48.484375 \nQ 26.265625 48.484375 22.1875 42.84375 \nQ 18.109375 37.203125 18.109375 27.296875 \nQ 18.109375 17.390625 22.1875 11.75 \nQ 26.265625 6.109375 33.40625 6.109375 \nQ 40.53125 6.109375 44.609375 11.75 \nQ 48.6875 17.390625 48.6875 27.296875 \nz\n\" id=\"DejaVuSans-112\"/>\n      <path d=\"M 9.421875 75.984375 \nL 18.40625 75.984375 \nL 18.40625 0 \nL 9.421875 0 \nz\n\" id=\"DejaVuSans-108\"/>\n      <path d=\"M 30.609375 48.390625 \nQ 23.390625 48.390625 19.1875 42.75 \nQ 14.984375 37.109375 14.984375 27.296875 \nQ 14.984375 17.484375 19.15625 11.84375 \nQ 23.34375 6.203125 30.609375 6.203125 \nQ 37.796875 6.203125 41.984375 11.859375 \nQ 46.1875 17.53125 46.1875 27.296875 \nQ 46.1875 37.015625 41.984375 42.703125 \nQ 37.796875 48.390625 30.609375 48.390625 \nz\nM 30.609375 56 \nQ 42.328125 56 49.015625 48.375 \nQ 55.71875 40.765625 55.71875 27.296875 \nQ 55.71875 13.875 49.015625 6.21875 \nQ 42.328125 -1.421875 30.609375 -1.421875 \nQ 18.84375 -1.421875 12.171875 6.21875 \nQ 5.515625 13.875 5.515625 27.296875 \nQ 5.515625 40.765625 12.171875 48.375 \nQ 18.84375 56 30.609375 56 \nz\n\" id=\"DejaVuSans-111\"/>\n      <path d=\"M 18.3125 70.21875 \nL 18.3125 54.6875 \nL 36.8125 54.6875 \nL 36.8125 47.703125 \nL 18.3125 47.703125 \nL 18.3125 18.015625 \nQ 18.3125 11.328125 20.140625 9.421875 \nQ 21.96875 7.515625 27.59375 7.515625 \nL 36.8125 7.515625 \nL 36.8125 0 \nL 27.59375 0 \nQ 17.1875 0 13.234375 3.875 \nQ 9.28125 7.765625 9.28125 18.015625 \nL 9.28125 47.703125 \nL 2.6875 47.703125 \nL 2.6875 54.6875 \nL 9.28125 54.6875 \nL 9.28125 70.21875 \nz\n\" id=\"DejaVuSans-116\"/>\n      <path d=\"M 37.109375 75.984375 \nL 37.109375 68.5 \nL 28.515625 68.5 \nQ 23.6875 68.5 21.796875 66.546875 \nQ 19.921875 64.59375 19.921875 59.515625 \nL 19.921875 54.6875 \nL 34.71875 54.6875 \nL 34.71875 47.703125 \nL 19.921875 47.703125 \nL 19.921875 0 \nL 10.890625 0 \nL 10.890625 47.703125 \nL 2.296875 47.703125 \nL 2.296875 54.6875 \nL 10.890625 54.6875 \nL 10.890625 58.5 \nQ 10.890625 67.625 15.140625 71.796875 \nQ 19.390625 75.984375 28.609375 75.984375 \nz\n\" id=\"DejaVuSans-102\"/>\n      <path d=\"M 108.90625 155.203125 \nL 52.703125 -29.5 \nL 48.5 -29.5 \nL 25.40625 45.59375 \nQ 24.296875 49.203125 22.890625 50.796875 \nQ 21.5 52.40625 19.203125 52.40625 \nQ 15.796875 52.40625 12.40625 49.703125 \nL 11.203125 51.703125 \nL 27.59375 64.296875 \nL 30.09375 64.296875 \nL 52.796875 -9.40625 \nL 53.203125 -9.40625 \nL 103.203125 155.203125 \nz\n\" id=\"STIXSizeOneSym-Regular-8730\"/>\n      <path d=\"M 60.015625 54.6875 \nL 34.90625 27.875 \nL 50.296875 0 \nL 39.984375 0 \nL 28.421875 21.6875 \nL 8.296875 0 \nL -2.59375 0 \nL 24.3125 28.8125 \nL 10.015625 54.6875 \nL 20.3125 54.6875 \nL 30.8125 34.90625 \nL 49.125 54.6875 \nz\n\" id=\"DejaVuSans-Oblique-120\"/>\n      <path d=\"M 46 62.703125 \nL 46 35.5 \nL 73.1875 35.5 \nL 73.1875 27.203125 \nL 46 27.203125 \nL 46 0 \nL 37.796875 0 \nL 37.796875 27.203125 \nL 10.59375 27.203125 \nL 10.59375 35.5 \nL 37.796875 35.5 \nL 37.796875 62.703125 \nz\n\" id=\"DejaVuSans-43\"/>\n      <path d=\"M 24.8125 -5.078125 \nQ 18.5625 -15.578125 14.625 -18.1875 \nQ 10.6875 -20.796875 4.59375 -20.796875 \nL -2.484375 -20.796875 \nL -0.984375 -13.28125 \nL 4.203125 -13.28125 \nQ 7.953125 -13.28125 10.59375 -11.234375 \nQ 13.234375 -9.1875 16.5 -3.21875 \nL 19.28125 2 \nL 7.171875 54.6875 \nL 16.703125 54.6875 \nL 25.78125 12.796875 \nL 50.875 54.6875 \nL 60.296875 54.6875 \nz\n\" id=\"DejaVuSans-Oblique-121\"/>\n      <path d=\"M 41.109375 46.296875 \nQ 39.59375 47.171875 37.8125 47.578125 \nQ 36.03125 48 33.890625 48 \nQ 26.265625 48 22.1875 43.046875 \nQ 18.109375 38.09375 18.109375 28.8125 \nL 18.109375 0 \nL 9.078125 0 \nL 9.078125 54.6875 \nL 18.109375 54.6875 \nL 18.109375 46.1875 \nQ 20.953125 51.171875 25.484375 53.578125 \nQ 30.03125 56 36.53125 56 \nQ 37.453125 56 38.578125 55.875 \nQ 39.703125 55.765625 41.0625 55.515625 \nz\n\" id=\"DejaVuSans-114\"/>\n      <path d=\"M 9.421875 54.6875 \nL 18.40625 54.6875 \nL 18.40625 0 \nL 9.421875 0 \nz\nM 9.421875 75.984375 \nL 18.40625 75.984375 \nL 18.40625 64.59375 \nL 9.421875 64.59375 \nz\n\" id=\"DejaVuSans-105\"/>\n      <path d=\"M 45.40625 46.390625 \nL 45.40625 75.984375 \nL 54.390625 75.984375 \nL 54.390625 0 \nL 45.40625 0 \nL 45.40625 8.203125 \nQ 42.578125 3.328125 38.25 0.953125 \nQ 33.9375 -1.421875 27.875 -1.421875 \nQ 17.96875 -1.421875 11.734375 6.484375 \nQ 5.515625 14.40625 5.515625 27.296875 \nQ 5.515625 40.1875 11.734375 48.09375 \nQ 17.96875 56 27.875 56 \nQ 33.9375 56 38.25 53.625 \nQ 42.578125 51.265625 45.40625 46.390625 \nz\nM 14.796875 27.296875 \nQ 14.796875 17.390625 18.875 11.75 \nQ 22.953125 6.109375 30.078125 6.109375 \nQ 37.203125 6.109375 41.296875 11.75 \nQ 45.40625 17.390625 45.40625 27.296875 \nQ 45.40625 37.203125 41.296875 42.84375 \nQ 37.203125 48.484375 30.078125 48.484375 \nQ 22.953125 48.484375 18.875 42.84375 \nQ 14.796875 37.203125 14.796875 27.296875 \nz\n\" id=\"DejaVuSans-100\"/>\n      <path d=\"M 2.984375 54.6875 \nL 12.5 54.6875 \nL 29.59375 8.796875 \nL 46.6875 54.6875 \nL 56.203125 54.6875 \nL 35.6875 0 \nL 23.484375 0 \nz\n\" id=\"DejaVuSans-118\"/>\n      <path d=\"M 8.5 21.578125 \nL 8.5 54.6875 \nL 17.484375 54.6875 \nL 17.484375 21.921875 \nQ 17.484375 14.15625 20.5 10.265625 \nQ 23.53125 6.390625 29.59375 6.390625 \nQ 36.859375 6.390625 41.078125 11.03125 \nQ 45.3125 15.671875 45.3125 23.6875 \nL 45.3125 54.6875 \nL 54.296875 54.6875 \nL 54.296875 0 \nL 45.3125 0 \nL 45.3125 8.40625 \nQ 42.046875 3.421875 37.71875 1 \nQ 33.40625 -1.421875 27.6875 -1.421875 \nQ 18.265625 -1.421875 13.375 4.4375 \nQ 8.5 10.296875 8.5 21.578125 \nz\nM 31.109375 56 \nz\n\" id=\"DejaVuSans-117\"/>\n      <path d=\"M 44.28125 53.078125 \nL 44.28125 44.578125 \nQ 40.484375 46.53125 36.375 47.5 \nQ 32.28125 48.484375 27.875 48.484375 \nQ 21.1875 48.484375 17.84375 46.4375 \nQ 14.5 44.390625 14.5 40.28125 \nQ 14.5 37.15625 16.890625 35.375 \nQ 19.28125 33.59375 26.515625 31.984375 \nL 29.59375 31.296875 \nQ 39.15625 29.25 43.1875 25.515625 \nQ 47.21875 21.78125 47.21875 15.09375 \nQ 47.21875 7.46875 41.1875 3.015625 \nQ 35.15625 -1.421875 24.609375 -1.421875 \nQ 20.21875 -1.421875 15.453125 -0.5625 \nQ 10.6875 0.296875 5.421875 2 \nL 5.421875 11.28125 \nQ 10.40625 8.6875 15.234375 7.390625 \nQ 20.0625 6.109375 24.8125 6.109375 \nQ 31.15625 6.109375 34.5625 8.28125 \nQ 37.984375 10.453125 37.984375 14.40625 \nQ 37.984375 18.0625 35.515625 20.015625 \nQ 33.0625 21.96875 24.703125 23.78125 \nL 21.578125 24.515625 \nQ 13.234375 26.265625 9.515625 29.90625 \nQ 5.8125 33.546875 5.8125 39.890625 \nQ 5.8125 47.609375 11.28125 51.796875 \nQ 16.75 56 26.8125 56 \nQ 31.78125 56 36.171875 55.265625 \nQ 40.578125 54.546875 44.28125 53.078125 \nz\n\" id=\"DejaVuSans-115\"/>\n     </defs>\n     <use transform=\"translate(0 0.578125)\" xlink:href=\"#DejaVuSans-73\"/>\n     <use transform=\"translate(25.867188 0.578125)\" xlink:href=\"#DejaVuSans-109\"/>\n     <use transform=\"translate(123.279297 0.578125)\" xlink:href=\"#DejaVuSans-97\"/>\n     <use transform=\"translate(184.558594 0.578125)\" xlink:href=\"#DejaVuSans-103\"/>\n     <use transform=\"translate(248.035156 0.578125)\" xlink:href=\"#DejaVuSans-101\"/>\n     <use transform=\"translate(309.558594 0.578125)\" xlink:href=\"#DejaVuSans-32\"/>\n     <use transform=\"translate(341.345703 0.578125)\" xlink:href=\"#DejaVuSans-112\"/>\n     <use transform=\"translate(404.822266 0.578125)\" xlink:href=\"#DejaVuSans-108\"/>\n     <use transform=\"translate(432.605469 0.578125)\" xlink:href=\"#DejaVuSans-111\"/>\n     <use transform=\"translate(493.787109 0.578125)\" xlink:href=\"#DejaVuSans-116\"/>\n     <use transform=\"translate(532.996094 0.578125)\" xlink:href=\"#DejaVuSans-32\"/>\n     <use transform=\"translate(564.783203 0.578125)\" xlink:href=\"#DejaVuSans-111\"/>\n     <use transform=\"translate(625.964844 0.578125)\" xlink:href=\"#DejaVuSans-102\"/>\n     <use transform=\"translate(661.169922 0.578125)\" xlink:href=\"#DejaVuSans-32\"/>\n     <use transform=\"translate(692.957031 2.5)scale(0.770324)\" xlink:href=\"#STIXSizeOneSym-Regular-8730\"/>\n     <use transform=\"translate(786.846024 0.515625)\" xlink:href=\"#DejaVuSans-Oblique-120\"/>\n     <use transform=\"translate(850.491857 38.796875)scale(0.7)\" xlink:href=\"#DejaVuSans-50\"/>\n     <use transform=\"translate(917.244787 0.515625)\" xlink:href=\"#DejaVuSans-43\"/>\n     <use transform=\"translate(1020.516271 0.515625)\" xlink:href=\"#DejaVuSans-Oblique-121\"/>\n     <use transform=\"translate(1084.162104 38.796875)scale(0.7)\" xlink:href=\"#DejaVuSans-50\"/>\n     <use transform=\"translate(1143.932612 0.578125)\" xlink:href=\"#DejaVuSans-32\"/>\n     <use transform=\"translate(1175.719721 0.578125)\" xlink:href=\"#DejaVuSans-102\"/>\n     <use transform=\"translate(1210.9248 0.578125)\" xlink:href=\"#DejaVuSans-111\"/>\n     <use transform=\"translate(1272.10644 0.578125)\" xlink:href=\"#DejaVuSans-114\"/>\n     <use transform=\"translate(1313.219721 0.578125)\" xlink:href=\"#DejaVuSans-32\"/>\n     <use transform=\"translate(1345.006831 0.578125)\" xlink:href=\"#DejaVuSans-97\"/>\n     <use transform=\"translate(1406.286128 0.578125)\" xlink:href=\"#DejaVuSans-32\"/>\n     <use transform=\"translate(1438.073237 0.578125)\" xlink:href=\"#DejaVuSans-103\"/>\n     <use transform=\"translate(1501.5498 0.578125)\" xlink:href=\"#DejaVuSans-114\"/>\n     <use transform=\"translate(1542.663081 0.578125)\" xlink:href=\"#DejaVuSans-105\"/>\n     <use transform=\"translate(1570.446284 0.578125)\" xlink:href=\"#DejaVuSans-100\"/>\n     <use transform=\"translate(1633.922846 0.578125)\" xlink:href=\"#DejaVuSans-32\"/>\n     <use transform=\"translate(1665.709956 0.578125)\" xlink:href=\"#DejaVuSans-111\"/>\n     <use transform=\"translate(1726.891596 0.578125)\" xlink:href=\"#DejaVuSans-102\"/>\n     <use transform=\"translate(1762.096675 0.578125)\" xlink:href=\"#DejaVuSans-32\"/>\n     <use transform=\"translate(1793.883784 0.578125)\" xlink:href=\"#DejaVuSans-118\"/>\n     <use transform=\"translate(1853.063471 0.578125)\" xlink:href=\"#DejaVuSans-97\"/>\n     <use transform=\"translate(1914.342768 0.578125)\" xlink:href=\"#DejaVuSans-108\"/>\n     <use transform=\"translate(1942.125971 0.578125)\" xlink:href=\"#DejaVuSans-117\"/>\n     <use transform=\"translate(2005.504878 0.578125)\" xlink:href=\"#DejaVuSans-101\"/>\n     <use transform=\"translate(2067.028315 0.578125)\" xlink:href=\"#DejaVuSans-115\"/>\n     <path d=\"M 774.346024 115.5 \nL 774.346024 121.75 \nL 1143.932612 121.75 \nL 1143.932612 115.5 \nL 774.346024 115.5 \nz\n\"/>\n    </g>\n   </g>\n  </g>\n  <g id=\"axes_2\">\n   <g id=\"patch_7\">\n    <path clip-path=\"url(#p87ed3a7942)\" d=\"M 267.4675 246 \nL 267.4675 245.150625 \nL 267.4675 29.409375 \nL 267.4675 28.56 \nL 278.3395 28.56 \nL 278.3395 29.409375 \nL 278.3395 245.150625 \nL 278.3395 246 \nz\n\" style=\"fill:#ffffff;stroke:#ffffff;stroke-linejoin:miter;stroke-width:0.01;\"/>\n   </g>\n   <image height=\"217\" id=\"image513966d596\" transform=\"scale(1 -1)translate(0 -217)\" width=\"11\" x=\"267\" xlink:href=\"data:image/png;base64,\niVBORw0KGgoAAAANSUhEUgAAAAsAAADZCAYAAAD2WsoCAAAAgklEQVR4nO3QMQrAMBADwcj4/19O2iuNIGCWvXqL0yTJ+xzeTnLa/hmvtW5445JYjRnjNfAD1ahjvAZ+oBozxg9Uo47xGviBatQxXgM/UI06xmvgB6oxY/xANeoYr4EfqEYd4zXwA9WoY7wGfqAadYzXwA9UY8b4gWrUMV4DP5Cu8QHdRgdeRvf/PQAAAABJRU5ErkJggg==\" y=\"-28\"/>\n   <g id=\"matplotlib.axis_3\"/>\n   <g id=\"matplotlib.axis_4\">\n    <g id=\"ytick_6\">\n     <g id=\"line2d_11\">\n      <defs>\n       <path d=\"M 0 0 \nL 3.5 0 \n\" id=\"m7980692704\" style=\"stroke:#000000;stroke-width:0.8;\"/>\n      </defs>\n      <g>\n       <use style=\"stroke:#000000;stroke-width:0.8;\" x=\"278.3395\" xlink:href=\"#m7980692704\" y=\"246\"/>\n      </g>\n     </g>\n     <g id=\"text_12\">\n      <!-- 0 -->\n      <g transform=\"translate(285.3395 249.799219)scale(0.1 -0.1)\">\n       <use xlink:href=\"#DejaVuSans-48\"/>\n      </g>\n     </g>\n    </g>\n    <g id=\"ytick_7\">\n     <g id=\"line2d_12\">\n      <g>\n       <use style=\"stroke:#000000;stroke-width:0.8;\" x=\"278.3395\" xlink:href=\"#m7980692704\" y=\"215.24934\"/>\n      </g>\n     </g>\n     <g id=\"text_13\">\n      <!-- 1 -->\n      <g transform=\"translate(285.3395 219.048559)scale(0.1 -0.1)\">\n       <defs>\n        <path d=\"M 12.40625 8.296875 \nL 28.515625 8.296875 \nL 28.515625 63.921875 \nL 10.984375 60.40625 \nL 10.984375 69.390625 \nL 28.421875 72.90625 \nL 38.28125 72.90625 \nL 38.28125 8.296875 \nL 54.390625 8.296875 \nL 54.390625 0 \nL 12.40625 0 \nz\n\" id=\"DejaVuSans-49\"/>\n       </defs>\n       <use xlink:href=\"#DejaVuSans-49\"/>\n      </g>\n     </g>\n    </g>\n    <g id=\"ytick_8\">\n     <g id=\"line2d_13\">\n      <g>\n       <use style=\"stroke:#000000;stroke-width:0.8;\" x=\"278.3395\" xlink:href=\"#m7980692704\" y=\"184.498681\"/>\n      </g>\n     </g>\n     <g id=\"text_14\">\n      <!-- 2 -->\n      <g transform=\"translate(285.3395 188.297899)scale(0.1 -0.1)\">\n       <use xlink:href=\"#DejaVuSans-50\"/>\n      </g>\n     </g>\n    </g>\n    <g id=\"ytick_9\">\n     <g id=\"line2d_14\">\n      <g>\n       <use style=\"stroke:#000000;stroke-width:0.8;\" x=\"278.3395\" xlink:href=\"#m7980692704\" y=\"153.748021\"/>\n      </g>\n     </g>\n     <g id=\"text_15\">\n      <!-- 3 -->\n      <g transform=\"translate(285.3395 157.54724)scale(0.1 -0.1)\">\n       <defs>\n        <path d=\"M 40.578125 39.3125 \nQ 47.65625 37.796875 51.625 33 \nQ 55.609375 28.21875 55.609375 21.1875 \nQ 55.609375 10.40625 48.1875 4.484375 \nQ 40.765625 -1.421875 27.09375 -1.421875 \nQ 22.515625 -1.421875 17.65625 -0.515625 \nQ 12.796875 0.390625 7.625 2.203125 \nL 7.625 11.71875 \nQ 11.71875 9.328125 16.59375 8.109375 \nQ 21.484375 6.890625 26.8125 6.890625 \nQ 36.078125 6.890625 40.9375 10.546875 \nQ 45.796875 14.203125 45.796875 21.1875 \nQ 45.796875 27.640625 41.28125 31.265625 \nQ 36.765625 34.90625 28.71875 34.90625 \nL 20.21875 34.90625 \nL 20.21875 43.015625 \nL 29.109375 43.015625 \nQ 36.375 43.015625 40.234375 45.921875 \nQ 44.09375 48.828125 44.09375 54.296875 \nQ 44.09375 59.90625 40.109375 62.90625 \nQ 36.140625 65.921875 28.71875 65.921875 \nQ 24.65625 65.921875 20.015625 65.03125 \nQ 15.375 64.15625 9.8125 62.3125 \nL 9.8125 71.09375 \nQ 15.4375 72.65625 20.34375 73.4375 \nQ 25.25 74.21875 29.59375 74.21875 \nQ 40.828125 74.21875 47.359375 69.109375 \nQ 53.90625 64.015625 53.90625 55.328125 \nQ 53.90625 49.265625 50.4375 45.09375 \nQ 46.96875 40.921875 40.578125 39.3125 \nz\n\" id=\"DejaVuSans-51\"/>\n       </defs>\n       <use xlink:href=\"#DejaVuSans-51\"/>\n      </g>\n     </g>\n    </g>\n    <g id=\"ytick_10\">\n     <g id=\"line2d_15\">\n      <g>\n       <use style=\"stroke:#000000;stroke-width:0.8;\" x=\"278.3395\" xlink:href=\"#m7980692704\" y=\"122.997361\"/>\n      </g>\n     </g>\n     <g id=\"text_16\">\n      <!-- 4 -->\n      <g transform=\"translate(285.3395 126.79658)scale(0.1 -0.1)\">\n       <use xlink:href=\"#DejaVuSans-52\"/>\n      </g>\n     </g>\n    </g>\n    <g id=\"ytick_11\">\n     <g id=\"line2d_16\">\n      <g>\n       <use style=\"stroke:#000000;stroke-width:0.8;\" x=\"278.3395\" xlink:href=\"#m7980692704\" y=\"92.246701\"/>\n      </g>\n     </g>\n     <g id=\"text_17\">\n      <!-- 5 -->\n      <g transform=\"translate(285.3395 96.04592)scale(0.1 -0.1)\">\n       <defs>\n        <path d=\"M 10.796875 72.90625 \nL 49.515625 72.90625 \nL 49.515625 64.59375 \nL 19.828125 64.59375 \nL 19.828125 46.734375 \nQ 21.96875 47.46875 24.109375 47.828125 \nQ 26.265625 48.1875 28.421875 48.1875 \nQ 40.625 48.1875 47.75 41.5 \nQ 54.890625 34.8125 54.890625 23.390625 \nQ 54.890625 11.625 47.5625 5.09375 \nQ 40.234375 -1.421875 26.90625 -1.421875 \nQ 22.3125 -1.421875 17.546875 -0.640625 \nQ 12.796875 0.140625 7.71875 1.703125 \nL 7.71875 11.625 \nQ 12.109375 9.234375 16.796875 8.0625 \nQ 21.484375 6.890625 26.703125 6.890625 \nQ 35.15625 6.890625 40.078125 11.328125 \nQ 45.015625 15.765625 45.015625 23.390625 \nQ 45.015625 31 40.078125 35.4375 \nQ 35.15625 39.890625 26.703125 39.890625 \nQ 22.75 39.890625 18.8125 39.015625 \nQ 14.890625 38.140625 10.796875 36.28125 \nz\n\" id=\"DejaVuSans-53\"/>\n       </defs>\n       <use xlink:href=\"#DejaVuSans-53\"/>\n      </g>\n     </g>\n    </g>\n    <g id=\"ytick_12\">\n     <g id=\"line2d_17\">\n      <g>\n       <use style=\"stroke:#000000;stroke-width:0.8;\" x=\"278.3395\" xlink:href=\"#m7980692704\" y=\"61.496042\"/>\n      </g>\n     </g>\n     <g id=\"text_18\">\n      <!-- 6 -->\n      <g transform=\"translate(285.3395 65.295261)scale(0.1 -0.1)\">\n       <use xlink:href=\"#DejaVuSans-54\"/>\n      </g>\n     </g>\n    </g>\n    <g id=\"ytick_13\">\n     <g id=\"line2d_18\">\n      <g>\n       <use style=\"stroke:#000000;stroke-width:0.8;\" x=\"278.3395\" xlink:href=\"#m7980692704\" y=\"30.745382\"/>\n      </g>\n     </g>\n     <g id=\"text_19\">\n      <!-- 7 -->\n      <g transform=\"translate(285.3395 34.544601)scale(0.1 -0.1)\">\n       <defs>\n        <path d=\"M 8.203125 72.90625 \nL 55.078125 72.90625 \nL 55.078125 68.703125 \nL 28.609375 0 \nL 18.3125 0 \nL 43.21875 64.59375 \nL 8.203125 64.59375 \nz\n\" id=\"DejaVuSans-55\"/>\n       </defs>\n       <use xlink:href=\"#DejaVuSans-55\"/>\n      </g>\n     </g>\n    </g>\n   </g>\n   <g id=\"patch_8\">\n    <path d=\"M 267.4675 246 \nL 267.4675 245.150625 \nL 267.4675 29.409375 \nL 267.4675 28.56 \nL 278.3395 28.56 \nL 278.3395 29.409375 \nL 278.3395 245.150625 \nL 278.3395 246 \nz\n\" style=\"fill:none;stroke:#000000;stroke-linejoin:miter;stroke-width:0.8;\"/>\n   </g>\n  </g>\n </g>\n <defs>\n  <clipPath id=\"p885ecdb477\">\n   <rect height=\"217.44\" width=\"217.44\" x=\"33.2875\" y=\"28.56\"/>\n  </clipPath>\n  <clipPath id=\"p87ed3a7942\">\n   <rect height=\"217.44\" width=\"10.872\" x=\"267.4675\" y=\"28.56\"/>\n  </clipPath>\n </defs>\n</svg>\n",
      "image/png": "[encoded data removed]"
     },
     "metadata": {
      "needs_background": "light"
     }
    }
   ],
   "source": [
    "import matplotlib.pyplot as plt\n",
    "\n",
    "plt.imshow(z,cmap=plt.cm.gray);plt.colorbar()\n",
    "plt.title('Image plot of $\\sqrt{x^2+y^2}$ for a grid of values')"
   ]
  },
  {
   "source": [
    "### 4.3.1 条件制御のndarrayでの表現"
   ],
   "cell_type": "markdown",
   "metadata": {}
  },
  {
   "cell_type": "code",
   "execution_count": 44,
   "metadata": {},
   "outputs": [],
   "source": [
    "#condがTrueであればxarrの同位置の要素を、Falseであればyarrの同位置の要素を取る\n",
    "xarr=np.array([1.1,1.2,1.3,1.4,1.5])\n",
    "yarr=np.array([2.1,2.2,2.3,2.4,2.5])\n",
    "cond=np.array([True,False,True,True,False])"
   ]
  },
  {
   "cell_type": "code",
   "execution_count": 45,
   "metadata": {},
   "outputs": [
    {
     "output_type": "execute_result",
     "data": {
      "text/plain": [
       "[1.1, 2.2, 1.3, 1.4, 2.5]"
      ]
     },
     "metadata": {},
     "execution_count": 45
    }
   ],
   "source": [
    "#pythonのリスト内包表記による書き方(対象配列が大きいと遅くなる上、多次元配列に対応できない))\n",
    "result=[(x if c else y) for x,y,c in zip(xarr,yarr,cond)]\n",
    "result"
   ]
  },
  {
   "cell_type": "code",
   "execution_count": 46,
   "metadata": {},
   "outputs": [
    {
     "output_type": "execute_result",
     "data": {
      "text/plain": [
       "array([1.1, 2.2, 1.3, 1.4, 2.5])"
      ]
     },
     "metadata": {},
     "execution_count": 46
    }
   ],
   "source": [
    "#np.whereを使った書き方\n",
    "result=np.where(cond,xarr,yarr)\n",
    "result"
   ]
  },
  {
   "cell_type": "code",
   "execution_count": 47,
   "metadata": {},
   "outputs": [
    {
     "output_type": "execute_result",
     "data": {
      "text/plain": [
       "array([[ 0.69924758, -0.77174197, -0.6211323 ,  0.33795529],\n",
       "       [ 0.36523971, -1.1041143 , -0.36317958,  0.44273979],\n",
       "       [ 2.56565449, -0.62618622,  1.30835086, -0.00395938],\n",
       "       [-0.42053025, -1.07589691, -0.38045397,  1.36267176]])"
      ]
     },
     "metadata": {},
     "execution_count": 47
    }
   ],
   "source": [
    "#正の場合は2に、負の場合は-2に置き換える\n",
    "arr=np.random.randn(4,4)\n",
    "arr"
   ]
  },
  {
   "cell_type": "code",
   "execution_count": 48,
   "metadata": {},
   "outputs": [
    {
     "output_type": "execute_result",
     "data": {
      "text/plain": [
       "array([[ True, False, False,  True],\n",
       "       [ True, False, False,  True],\n",
       "       [ True, False,  True, False],\n",
       "       [False, False, False,  True]])"
      ]
     },
     "metadata": {},
     "execution_count": 48
    }
   ],
   "source": [
    "arr>0"
   ]
  },
  {
   "cell_type": "code",
   "execution_count": 49,
   "metadata": {},
   "outputs": [
    {
     "output_type": "execute_result",
     "data": {
      "text/plain": [
       "array([[ 2, -2, -2,  2],\n",
       "       [ 2, -2, -2,  2],\n",
       "       [ 2, -2,  2, -2],\n",
       "       [-2, -2, -2,  2]])"
      ]
     },
     "metadata": {},
     "execution_count": 49
    }
   ],
   "source": [
    "np.where(arr>0,2,-2)    #引数の2番めと3番目はスカラーを渡すこともできる"
   ]
  },
  {
   "cell_type": "code",
   "execution_count": 50,
   "metadata": {},
   "outputs": [
    {
     "output_type": "execute_result",
     "data": {
      "text/plain": [
       "array([[ 2.        , -0.77174197, -0.6211323 ,  2.        ],\n",
       "       [ 2.        , -1.1041143 , -0.36317958,  2.        ],\n",
       "       [ 2.        , -0.62618622,  2.        , -0.00395938],\n",
       "       [-0.42053025, -1.07589691, -0.38045397,  2.        ]])"
      ]
     },
     "metadata": {},
     "execution_count": 50
    }
   ],
   "source": [
    "np.where(arr>0,2,arr)   #スカラーとndarrayを組み合わせることもできる"
   ]
  },
  {
   "cell_type": "code",
   "execution_count": 51,
   "metadata": {},
   "outputs": [
    {
     "output_type": "error",
     "ename": "ValueError",
     "evalue": "either both or neither of x and y should be given",
     "traceback": [
      "\u001b[0;31m---------------------------------------------------------------------------\u001b[0m",
      "\u001b[0;31mValueError\u001b[0m                                Traceback (most recent call last)",
      "\u001b[0;32m<ipython-input-51-19b25b089f65>\u001b[0m in \u001b[0;36m<module>\u001b[0;34m\u001b[0m\n\u001b[0;32m----> 1\u001b[0;31m \u001b[0mnp\u001b[0m\u001b[0;34m.\u001b[0m\u001b[0mwhere\u001b[0m\u001b[0;34m(\u001b[0m\u001b[0marr\u001b[0m\u001b[0;34m>\u001b[0m\u001b[0;36m0\u001b[0m\u001b[0;34m,\u001b[0m\u001b[0;36m2\u001b[0m\u001b[0;34m)\u001b[0m\u001b[0;34m\u001b[0m\u001b[0;34m\u001b[0m\u001b[0m\n\u001b[0m",
      "\u001b[0;32m<__array_function__ internals>\u001b[0m in \u001b[0;36mwhere\u001b[0;34m(*args, **kwargs)\u001b[0m\n",
      "\u001b[0;31mValueError\u001b[0m: either both or neither of x and y should be given"
     ]
    }
   ],
   "source": [
    "np.where(arr>0,2)   #elseの省略はできない"
   ]
  },
  {
   "source": [
    "### 4.3.2 数学関数、統計関数"
   ],
   "cell_type": "markdown",
   "metadata": {}
  },
  {
   "cell_type": "code",
   "execution_count": 53,
   "metadata": {},
   "outputs": [
    {
     "output_type": "execute_result",
     "data": {
      "text/plain": [
       "array([[ 0.00470343,  0.76545329,  0.96312804, -0.14777725],\n",
       "       [-0.84974114,  0.3762946 ,  0.26155357, -0.63816127],\n",
       "       [-0.70165483,  0.40792757,  0.81490876, -0.91774773],\n",
       "       [-0.14895498, -0.01292605, -0.40756189,  0.5109428 ],\n",
       "       [ 0.5887987 , -1.46243741,  0.05875389, -0.56117476]])"
      ]
     },
     "metadata": {},
     "execution_count": 53
    }
   ],
   "source": [
    "arr=np.random.randn(5,4)\n",
    "arr"
   ]
  },
  {
   "cell_type": "code",
   "execution_count": 54,
   "metadata": {},
   "outputs": [
    {
     "output_type": "execute_result",
     "data": {
      "text/plain": [
       "-0.05478363196536936"
      ]
     },
     "metadata": {},
     "execution_count": 54
    }
   ],
   "source": [
    "arr.mean()"
   ]
  },
  {
   "cell_type": "code",
   "execution_count": 55,
   "metadata": {},
   "outputs": [
    {
     "output_type": "execute_result",
     "data": {
      "text/plain": [
       "-0.05478363196536936"
      ]
     },
     "metadata": {},
     "execution_count": 55
    }
   ],
   "source": [
    "np.mean(arr)"
   ]
  },
  {
   "cell_type": "code",
   "execution_count": 56,
   "metadata": {},
   "outputs": [
    {
     "output_type": "execute_result",
     "data": {
      "text/plain": [
       "-1.0956726393073872"
      ]
     },
     "metadata": {},
     "execution_count": 56
    }
   ],
   "source": [
    "arr.sum()"
   ]
  },
  {
   "cell_type": "code",
   "execution_count": 57,
   "metadata": {},
   "outputs": [
    {
     "output_type": "execute_result",
     "data": {
      "text/plain": [
       "array([ 0.39637688, -0.21251356, -0.09914156, -0.01462503, -0.34401489])"
      ]
     },
     "metadata": {},
     "execution_count": 57
    }
   ],
   "source": [
    "#meanやsumはどの軸を中心に処理するかを引数axisで指定することができる\n",
    "arr.mean(axis=1)    #行ごとに平均を求める（列方向に足して平均を出す）"
   ]
  },
  {
   "cell_type": "code",
   "execution_count": 58,
   "metadata": {},
   "outputs": [
    {
     "output_type": "execute_result",
     "data": {
      "text/plain": [
       "array([-1.10684882,  0.074312  ,  1.69078238, -1.7539182 ])"
      ]
     },
     "metadata": {},
     "execution_count": 58
    }
   ],
   "source": [
    "arr.sum(axis=0) #列ごとに合計を求める（行方向に足して合計を出す）"
   ]
  },
  {
   "cell_type": "code",
   "execution_count": 61,
   "metadata": {},
   "outputs": [
    {
     "output_type": "execute_result",
     "data": {
      "text/plain": [
       "array([ 0.39637688, -0.21251356, -0.09914156, -0.01462503, -0.34401489])"
      ]
     },
     "metadata": {},
     "execution_count": 61
    }
   ],
   "source": [
    "arr.mean(1) #axis=は省略できる"
   ]
  },
  {
   "cell_type": "code",
   "execution_count": 62,
   "metadata": {},
   "outputs": [
    {
     "output_type": "execute_result",
     "data": {
      "text/plain": [
       "array([-1.10684882,  0.074312  ,  1.69078238, -1.7539182 ])"
      ]
     },
     "metadata": {},
     "execution_count": 62
    }
   ],
   "source": [
    "arr.sum(0)  #axis=は省略できる"
   ]
  },
  {
   "cell_type": "code",
   "execution_count": 63,
   "metadata": {},
   "outputs": [
    {
     "output_type": "execute_result",
     "data": {
      "text/plain": [
       "array([ 0,  1,  3,  6, 10, 15, 21, 28])"
      ]
     },
     "metadata": {},
     "execution_count": 63
    }
   ],
   "source": [
    "arr=np.array([0,1,2,3,4,5,6,7])\n",
    "arr.cumsum()    #累積和. 途中経過も返す"
   ]
  },
  {
   "cell_type": "code",
   "execution_count": 64,
   "metadata": {},
   "outputs": [
    {
     "output_type": "execute_result",
     "data": {
      "text/plain": [
       "array([[0, 1, 2],\n",
       "       [3, 4, 5],\n",
       "       [6, 7, 8]])"
      ]
     },
     "metadata": {},
     "execution_count": 64
    }
   ],
   "source": [
    "arr=np.array([[0,1,2],[3,4,5],[6,7,8]])\n",
    "arr"
   ]
  },
  {
   "cell_type": "code",
   "execution_count": 65,
   "metadata": {},
   "outputs": [
    {
     "output_type": "execute_result",
     "data": {
      "text/plain": [
       "array([[ 0,  1,  2],\n",
       "       [ 3,  5,  7],\n",
       "       [ 9, 12, 15]])"
      ]
     },
     "metadata": {},
     "execution_count": 65
    }
   ],
   "source": [
    "arr.cumsum(0)"
   ]
  },
  {
   "cell_type": "code",
   "execution_count": 66,
   "metadata": {},
   "outputs": [
    {
     "output_type": "execute_result",
     "data": {
      "text/plain": [
       "array([[  0,   0,   0],\n",
       "       [  3,  12,  60],\n",
       "       [  6,  42, 336]])"
      ]
     },
     "metadata": {},
     "execution_count": 66
    }
   ],
   "source": [
    "arr.cumprod(1)  #累積積. 途中経過も返す"
   ]
  },
  {
   "source": [
    "### 4.3.3 真偽値配列関数\n",
    "Trueは１、Falseは０として扱われる"
   ],
   "cell_type": "markdown",
   "metadata": {}
  },
  {
   "cell_type": "code",
   "execution_count": 67,
   "metadata": {},
   "outputs": [
    {
     "output_type": "execute_result",
     "data": {
      "text/plain": [
       "48"
      ]
     },
     "metadata": {},
     "execution_count": 67
    }
   ],
   "source": [
    "arr=np.random.randn(100)\n",
    "(arr>0).sum()   #正の数の個数"
   ]
  },
  {
   "cell_type": "code",
   "execution_count": 68,
   "metadata": {},
   "outputs": [
    {
     "output_type": "execute_result",
     "data": {
      "text/plain": [
       "True"
      ]
     },
     "metadata": {},
     "execution_count": 68
    }
   ],
   "source": [
    "bools=np.array([False,False,True,False])\n",
    "bools.any() #要素に一つでもTrueがあればTrueを返す"
   ]
  },
  {
   "cell_type": "code",
   "execution_count": 69,
   "metadata": {},
   "outputs": [
    {
     "output_type": "execute_result",
     "data": {
      "text/plain": [
       "False"
      ]
     },
     "metadata": {},
     "execution_count": 69
    }
   ],
   "source": [
    "bools.all() #要素がすべてTrueであればTrueを返す"
   ]
  },
  {
   "source": [
    "### 4.3.4 ソート\n",
    "元のndarrayを直接置換する"
   ],
   "cell_type": "markdown",
   "metadata": {}
  },
  {
   "cell_type": "code",
   "execution_count": 70,
   "metadata": {},
   "outputs": [
    {
     "output_type": "execute_result",
     "data": {
      "text/plain": [
       "array([ 1.42434409, -0.11509715, -0.1508563 , -1.70204796,  1.02805215,\n",
       "        0.28365519])"
      ]
     },
     "metadata": {},
     "execution_count": 70
    }
   ],
   "source": [
    "arr=np.random.randn(6)\n",
    "arr"
   ]
  },
  {
   "cell_type": "code",
   "execution_count": 72,
   "metadata": {},
   "outputs": [
    {
     "output_type": "execute_result",
     "data": {
      "text/plain": [
       "array([-1.70204796, -0.1508563 , -0.11509715,  0.28365519,  1.02805215,\n",
       "        1.42434409])"
      ]
     },
     "metadata": {},
     "execution_count": 72
    }
   ],
   "source": [
    "arr.sort()\n",
    "arr #元のndarrayを直接置換する"
   ]
  },
  {
   "cell_type": "code",
   "execution_count": 73,
   "metadata": {},
   "outputs": [
    {
     "output_type": "execute_result",
     "data": {
      "text/plain": [
       "array([[ 1.37278111,  0.08916635, -0.4332646 ],\n",
       "       [ 0.3540298 ,  0.27193711,  1.8665573 ],\n",
       "       [ 1.47300224, -0.4893033 ,  0.69232629],\n",
       "       [-0.17968678,  0.28663926, -0.96430814],\n",
       "       [ 1.24744108,  1.03917755,  0.22933465]])"
      ]
     },
     "metadata": {},
     "execution_count": 73
    }
   ],
   "source": [
    "arr=np.random.randn(5,3)\n",
    "arr"
   ]
  },
  {
   "cell_type": "code",
   "execution_count": 74,
   "metadata": {},
   "outputs": [
    {
     "output_type": "execute_result",
     "data": {
      "text/plain": [
       "array([[-0.4332646 ,  0.08916635,  1.37278111],\n",
       "       [ 0.27193711,  0.3540298 ,  1.8665573 ],\n",
       "       [-0.4893033 ,  0.69232629,  1.47300224],\n",
       "       [-0.96430814, -0.17968678,  0.28663926],\n",
       "       [ 0.22933465,  1.03917755,  1.24744108]])"
      ]
     },
     "metadata": {},
     "execution_count": 74
    }
   ],
   "source": [
    "arr.sort(1) #任意の軸に沿ってソートできる\n",
    "arr"
   ]
  },
  {
   "cell_type": "code",
   "execution_count": 76,
   "metadata": {},
   "outputs": [
    {
     "output_type": "execute_result",
     "data": {
      "text/plain": [
       "-1.6432329298517225"
      ]
     },
     "metadata": {},
     "execution_count": 76
    }
   ],
   "source": [
    "large_arr=np.random.randn(100)\n",
    "large_arr.sort()\n",
    "large_arr[int(0.05*len(large_arr))] #5%分位点"
   ]
  },
  {
   "source": [
    "### 4.3.5 集合関数：uniqueなど"
   ],
   "cell_type": "markdown",
   "metadata": {}
  },
  {
   "cell_type": "code",
   "execution_count": 77,
   "metadata": {},
   "outputs": [
    {
     "output_type": "execute_result",
     "data": {
      "text/plain": [
       "array(['Bob', 'Joe', 'Will'], dtype='<U4')"
      ]
     },
     "metadata": {},
     "execution_count": 77
    }
   ],
   "source": [
    "names=np.array(['Bob','Joe','Will','Bob','Will','Joe','Joe'])\n",
    "np.unique(names)    #配列要素から重複を取り除き、ソートして返す"
   ]
  },
  {
   "cell_type": "code",
   "execution_count": 78,
   "metadata": {},
   "outputs": [
    {
     "output_type": "execute_result",
     "data": {
      "text/plain": [
       "array([1, 2, 3, 4, 6, 7])"
      ]
     },
     "metadata": {},
     "execution_count": 78
    }
   ],
   "source": [
    "ints=np.array([1,3,4,2,4,6,3,6,3,7])\n",
    "np.unique(ints)"
   ]
  },
  {
   "cell_type": "code",
   "execution_count": 79,
   "metadata": {},
   "outputs": [
    {
     "output_type": "execute_result",
     "data": {
      "text/plain": [
       "['Bob', 'Joe', 'Will']"
      ]
     },
     "metadata": {},
     "execution_count": 79
    }
   ],
   "source": [
    "#python標準機能で書く場合\n",
    "sorted(set(names))  #setで重複を取り除き、sortでソートする"
   ]
  },
  {
   "cell_type": "code",
   "execution_count": 81,
   "metadata": {},
   "outputs": [
    {
     "output_type": "execute_result",
     "data": {
      "text/plain": [
       "array([ True,  True, False, False, False,  True, False,  True, False,\n",
       "       False])"
      ]
     },
     "metadata": {},
     "execution_count": 81
    }
   ],
   "source": [
    "values=np.array([3,5,2,6,7,5,6,3,2,6])\n",
    "np.in1d(values,[3,5,0]) #ある配列内に、指定した要素郡が存在するかどうか判別する"
   ]
  },
  {
   "source": [
    "## 4.4 ndarrayのファイル出力"
   ],
   "cell_type": "markdown",
   "metadata": {}
  },
  {
   "cell_type": "code",
   "execution_count": 82,
   "metadata": {},
   "outputs": [],
   "source": [
    "arr=np.arange(10)\n",
    "np.save('outputs/some_array',arr)   #ファイルパスに拡張子を指定しない場合、自動で.npyが付加される"
   ]
  },
  {
   "cell_type": "code",
   "execution_count": 83,
   "metadata": {},
   "outputs": [
    {
     "output_type": "execute_result",
     "data": {
      "text/plain": [
       "array([0, 1, 2, 3, 4, 5, 6, 7, 8, 9])"
      ]
     },
     "metadata": {},
     "execution_count": 83
    }
   ],
   "source": [
    "np.load('outputs/some_array.npy')"
   ]
  },
  {
   "cell_type": "code",
   "execution_count": 84,
   "metadata": {},
   "outputs": [],
   "source": [
    "np.savez('outputs/array_archive.npz',a=arr,b=arr)   #複数のndarrayを無圧縮アーカイブとして保管、個々のndarrayを区別するためにキーワードを指定"
   ]
  },
  {
   "cell_type": "code",
   "execution_count": 85,
   "metadata": {},
   "outputs": [
    {
     "output_type": "execute_result",
     "data": {
      "text/plain": [
       "array([0, 1, 2, 3, 4, 5, 6, 7, 8, 9])"
      ]
     },
     "metadata": {},
     "execution_count": 85
    }
   ],
   "source": [
    "arch=np.load('outputs/array_archive.npz')\n",
    "arch['b']   #キーワードを指定して読み込み.遅延読み込みのため、参照された時点で初めて実際にロードされる"
   ]
  },
  {
   "cell_type": "code",
   "execution_count": 86,
   "metadata": {},
   "outputs": [],
   "source": [
    "np.savez_compressed('outputs/array_compressed.npz',a=arr,b=arr) #データを圧縮して保管したい場合"
   ]
  },
  {
   "source": [
    "## 4.5 行列計算\n",
    "* Numpyでは演算子*（アスタリスク）は配列の対応する要素ごとの積を計算する（MATLABでは内積）\n",
    "* 内積の計算には関数dotを使用する"
   ],
   "cell_type": "markdown",
   "metadata": {}
  },
  {
   "cell_type": "code",
   "execution_count": 87,
   "metadata": {},
   "outputs": [],
   "source": [
    "x=np.array([[1.,2.,3.],[4.,5.,6.]])\n",
    "y=np.array([[6.,23.],[-1,7],[8,9]])"
   ]
  },
  {
   "cell_type": "code",
   "execution_count": 88,
   "metadata": {},
   "outputs": [
    {
     "output_type": "execute_result",
     "data": {
      "text/plain": [
       "array([[1., 2., 3.],\n",
       "       [4., 5., 6.]])"
      ]
     },
     "metadata": {},
     "execution_count": 88
    }
   ],
   "source": [
    "x"
   ]
  },
  {
   "cell_type": "code",
   "execution_count": 89,
   "metadata": {},
   "outputs": [
    {
     "output_type": "execute_result",
     "data": {
      "text/plain": [
       "array([[ 6., 23.],\n",
       "       [-1.,  7.],\n",
       "       [ 8.,  9.]])"
      ]
     },
     "metadata": {},
     "execution_count": 89
    }
   ],
   "source": [
    "y"
   ]
  },
  {
   "cell_type": "code",
   "execution_count": 90,
   "metadata": {},
   "outputs": [
    {
     "output_type": "execute_result",
     "data": {
      "text/plain": [
       "array([[ 28.,  64.],\n",
       "       [ 67., 181.]])"
      ]
     },
     "metadata": {},
     "execution_count": 90
    }
   ],
   "source": [
    "x.dot(y)    #内積"
   ]
  },
  {
   "cell_type": "code",
   "execution_count": 91,
   "metadata": {},
   "outputs": [
    {
     "output_type": "execute_result",
     "data": {
      "text/plain": [
       "array([[ 28.,  64.],\n",
       "       [ 67., 181.]])"
      ]
     },
     "metadata": {},
     "execution_count": 91
    }
   ],
   "source": [
    "np.dot(x,y)"
   ]
  },
  {
   "cell_type": "code",
   "execution_count": 92,
   "metadata": {},
   "outputs": [
    {
     "output_type": "execute_result",
     "data": {
      "text/plain": [
       "array([ 6., 15.])"
      ]
     },
     "metadata": {},
     "execution_count": 92
    }
   ],
   "source": [
    "np.dot(x,np.ones(3))    #(2,3)*(3,)=(2,)"
   ]
  },
  {
   "cell_type": "code",
   "execution_count": 93,
   "metadata": {},
   "outputs": [
    {
     "output_type": "execute_result",
     "data": {
      "text/plain": [
       "array([ 6., 15.])"
      ]
     },
     "metadata": {},
     "execution_count": 93
    }
   ],
   "source": [
    "#python3.5から行列の掛け算を表す二項演算子として@が定義されている\n",
    "x @ np.ones(3)"
   ]
  },
  {
   "cell_type": "code",
   "execution_count": 109,
   "metadata": {},
   "outputs": [
    {
     "output_type": "execute_result",
     "data": {
      "text/plain": [
       "array([[ 5.58854217, -1.5315185 , -0.40454096,  4.08006678, -0.95986908],\n",
       "       [-1.5315185 ,  3.07659388,  0.54821122, -2.84548959,  0.32501657],\n",
       "       [-0.40454096,  0.54821122,  1.21410311, -0.95337353,  0.51792122],\n",
       "       [ 4.08006678, -2.84548959, -0.95337353,  7.02664363, -1.92252428],\n",
       "       [-0.95986908,  0.32501657,  0.51792122, -1.92252428,  0.89851906]])"
      ]
     },
     "metadata": {},
     "execution_count": 109
    }
   ],
   "source": [
    "from numpy.linalg import inv,qr\n",
    "\n",
    "X=np.random.randn(5,5)\n",
    "mat=X.T.dot(X)  #Xとその転置行列であるX.Tとの内積を計算\n",
    "mat"
   ]
  },
  {
   "cell_type": "code",
   "execution_count": 110,
   "metadata": {},
   "outputs": [
    {
     "output_type": "execute_result",
     "data": {
      "text/plain": [
       "array([[ 0.32497778, -0.08381313,  0.02917896, -0.28945642, -0.258673  ],\n",
       "       [-0.08381313,  0.91181832, -0.47367235,  0.75645326,  1.47222143],\n",
       "       [ 0.02917896, -0.47367235,  1.34883808, -0.44157556, -1.51980331],\n",
       "       [-0.28945642,  0.75645326, -0.44157556,  1.12639493,  2.08178425],\n",
       "       [-0.258673  ,  1.47222143, -1.51980331,  2.08178425,  5.63441641]])"
      ]
     },
     "metadata": {},
     "execution_count": 110
    }
   ],
   "source": [
    "inv(mat)    #正方行列に対して逆行列を計算する"
   ]
  },
  {
   "cell_type": "code",
   "execution_count": 111,
   "metadata": {},
   "outputs": [
    {
     "output_type": "execute_result",
     "data": {
      "text/plain": [
       "array([[ 1.00000000e+00, -3.23085304e-16, -1.87745088e-17,\n",
       "         4.47780463e-16,  1.12548636e-15],\n",
       "       [-2.18932515e-16,  1.00000000e+00, -7.91246806e-18,\n",
       "         1.94280659e-16, -3.24266173e-16],\n",
       "       [-1.78553236e-17, -4.82792185e-17,  1.00000000e+00,\n",
       "         9.39737901e-17,  6.68000156e-17],\n",
       "       [ 1.87739843e-16,  8.08284666e-17,  3.80483482e-16,\n",
       "         1.00000000e+00,  6.70358014e-16],\n",
       "       [ 3.77319817e-17, -1.60282730e-17,  8.28937942e-17,\n",
       "        -2.39809441e-18,  1.00000000e+00]])"
      ]
     },
     "metadata": {},
     "execution_count": 111
    }
   ],
   "source": [
    "mat.dot(inv(mat))"
   ]
  },
  {
   "cell_type": "code",
   "execution_count": 112,
   "metadata": {},
   "outputs": [],
   "source": [
    "q,r=qr(mat) #QR分解を計算する"
   ]
  },
  {
   "cell_type": "code",
   "execution_count": 113,
   "metadata": {},
   "outputs": [
    {
     "output_type": "execute_result",
     "data": {
      "text/plain": [
       "array([[-7.16305099,  3.54797851,  1.11384221, -8.10545267,  2.06309382],\n",
       "       [ 0.        , -2.77953407, -0.68393817,  2.65759843, -0.43053092],\n",
       "       [ 0.        ,  0.        , -1.1861631 ,  1.02589696, -0.75969502],\n",
       "       [ 0.        ,  0.        ,  0.        , -2.21559031,  0.86902119],\n",
       "       [ 0.        ,  0.        ,  0.        ,  0.        ,  0.15689363]])"
      ]
     },
     "metadata": {},
     "execution_count": 113
    }
   ],
   "source": [
    "r"
   ]
  },
  {
   "source": [
    "## 4.6 疑似乱数生成"
   ],
   "cell_type": "markdown",
   "metadata": {}
  },
  {
   "cell_type": "code",
   "execution_count": 114,
   "metadata": {},
   "outputs": [
    {
     "output_type": "execute_result",
     "data": {
      "text/plain": [
       "array([[-0.2845402 , -0.85594468, -0.22846343,  1.03145469],\n",
       "       [ 0.71179152, -0.48513026, -1.38568184,  1.19030479],\n",
       "       [ 0.5518322 , -0.34755732, -0.40362739,  1.29461148],\n",
       "       [-0.82004616,  0.38768837, -0.07918429,  1.38294689]])"
      ]
     },
     "metadata": {},
     "execution_count": 114
    }
   ],
   "source": [
    "samples=np.random.normal(size=(4,4))    #正規分布に基づいた乱数を生成する\n",
    "samples"
   ]
  },
  {
   "cell_type": "code",
   "execution_count": 115,
   "metadata": {},
   "outputs": [
    {
     "output_type": "stream",
     "name": "stdout",
     "text": [
      "904 ms ± 52 ms per loop (mean ± std. dev. of 7 runs, 1 loop each)\n"
     ]
    }
   ],
   "source": [
    "#python組み込みの乱数モジュールでは一度に一つの乱数しか生成できないため、パフォーマンスが大きく異る\n",
    "from random import normalvariate\n",
    "N=1000000\n",
    "%timeit samples=[normalvariate(0,1) for _ in range(N)]"
   ]
  },
  {
   "cell_type": "code",
   "execution_count": 116,
   "metadata": {},
   "outputs": [
    {
     "output_type": "stream",
     "name": "stdout",
     "text": [
      "26.9 ms ± 289 µs per loop (mean ± std. dev. of 7 runs, 10 loops each)\n"
     ]
    }
   ],
   "source": [
    "%timeit np.random.normal(size=N)"
   ]
  },
  {
   "cell_type": "code",
   "execution_count": 117,
   "metadata": {},
   "outputs": [],
   "source": [
    "np.random.seed(1234)    #乱数シードを設定する"
   ]
  },
  {
   "cell_type": "code",
   "execution_count": 118,
   "metadata": {},
   "outputs": [
    {
     "output_type": "execute_result",
     "data": {
      "text/plain": [
       "array([ 0.47143516, -1.19097569,  1.43270697, -0.3126519 , -0.72058873,\n",
       "        0.88716294,  0.85958841, -0.6365235 ,  0.01569637, -2.24268495])"
      ]
     },
     "metadata": {},
     "execution_count": 118
    }
   ],
   "source": [
    "rng=np.random.RandomState(1234) #randomモジュールのグローバルな乱数シードを避けるために、他と分離した乱数生成器を準備する\n",
    "rng.randn(10)"
   ]
  },
  {
   "source": [
    "## 4.7 例：ランダムウォーク"
   ],
   "cell_type": "markdown",
   "metadata": {}
  },
  {
   "cell_type": "code",
   "execution_count": 119,
   "metadata": {},
   "outputs": [],
   "source": [
    "import random\n",
    "\n",
    "position=0\n",
    "walk=[position]\n",
    "steps=1000\n",
    "for i in range(steps):\n",
    "    step=1 if random.randint(0,1) else -1   #0か1の乱数を生成し、0であれば1、1であれば-1を返す\n",
    "    position+=step\n",
    "    walk.append(position)"
   ]
  },
  {
   "cell_type": "code",
   "execution_count": 120,
   "metadata": {},
   "outputs": [
    {
     "output_type": "execute_result",
     "data": {
      "text/plain": [
       "[<matplotlib.lines.Line2D at 0x12b938c70>]"
      ]
     },
     "metadata": {},
     "execution_count": 120
    },
    {
     "output_type": "display_data",
     "data": {
      "text/plain": "<Figure size 432x288 with 1 Axes>",
      "image/svg+xml": "<?xml version=\"1.0\" encoding=\"utf-8\" standalone=\"no\"?>\n<!DOCTYPE svg PUBLIC \"-//W3C//DTD SVG 1.1//EN\"\n  \"http://www.w3.org/Graphics/SVG/1.1/DTD/svg11.dtd\">\n<!-- Created with matplotlib (https://matplotlib.org/) -->\n<svg height=\"248.518125pt\" version=\"1.1\" viewBox=\"0 0 370.942187 248.518125\" width=\"370.942187pt\" xmlns=\"http://www.w3.org/2000/svg\" xmlns:xlink=\"http://www.w3.org/1999/xlink\">\n <metadata>\n  <rdf:RDF xmlns:cc=\"http://creativecommons.org/ns#\" xmlns:dc=\"http://purl.org/dc/elements/1.1/\" xmlns:rdf=\"http://www.w3.org/1999/02/22-rdf-syntax-ns#\">\n   <cc:Work>\n    <dc:type rdf:resource=\"http://purl.org/dc/dcmitype/StillImage\"/>\n    <dc:date>2021-02-16T15:22:57.201384</dc:date>\n    <dc:format>image/svg+xml</dc:format>\n    <dc:creator>\n     <cc:Agent>\n      <dc:title>Matplotlib v3.3.4, https://matplotlib.org/</dc:title>\n     </cc:Agent>\n    </dc:creator>\n   </cc:Work>\n  </rdf:RDF>\n </metadata>\n <defs>\n  <style type=\"text/css\">*{stroke-linecap:butt;stroke-linejoin:round;}</style>\n </defs>\n <g id=\"figure_1\">\n  <g id=\"patch_1\">\n   <path d=\"M 0 248.518125 \nL 370.942187 248.518125 \nL 370.942187 0 \nL 0 0 \nz\n\" style=\"fill:none;\"/>\n  </g>\n  <g id=\"axes_1\">\n   <g id=\"patch_2\">\n    <path d=\"M 28.942188 224.64 \nL 363.742188 224.64 \nL 363.742188 7.2 \nL 28.942188 7.2 \nz\n\" style=\"fill:#ffffff;\"/>\n   </g>\n   <g id=\"matplotlib.axis_1\">\n    <g id=\"xtick_1\">\n     <g id=\"line2d_1\">\n      <defs>\n       <path d=\"M 0 0 \nL 0 3.5 \n\" id=\"m5f8a4486cc\" style=\"stroke:#000000;stroke-width:0.8;\"/>\n      </defs>\n      <g>\n       <use style=\"stroke:#000000;stroke-width:0.8;\" x=\"44.160369\" xlink:href=\"#m5f8a4486cc\" y=\"224.64\"/>\n      </g>\n     </g>\n     <g id=\"text_1\">\n      <!-- 0 -->\n      <g transform=\"translate(40.979119 239.238437)scale(0.1 -0.1)\">\n       <defs>\n        <path d=\"M 31.78125 66.40625 \nQ 24.171875 66.40625 20.328125 58.90625 \nQ 16.5 51.421875 16.5 36.375 \nQ 16.5 21.390625 20.328125 13.890625 \nQ 24.171875 6.390625 31.78125 6.390625 \nQ 39.453125 6.390625 43.28125 13.890625 \nQ 47.125 21.390625 47.125 36.375 \nQ 47.125 51.421875 43.28125 58.90625 \nQ 39.453125 66.40625 31.78125 66.40625 \nz\nM 31.78125 74.21875 \nQ 44.046875 74.21875 50.515625 64.515625 \nQ 56.984375 54.828125 56.984375 36.375 \nQ 56.984375 17.96875 50.515625 8.265625 \nQ 44.046875 -1.421875 31.78125 -1.421875 \nQ 19.53125 -1.421875 13.0625 8.265625 \nQ 6.59375 17.96875 6.59375 36.375 \nQ 6.59375 54.828125 13.0625 64.515625 \nQ 19.53125 74.21875 31.78125 74.21875 \nz\n\" id=\"DejaVuSans-48\"/>\n       </defs>\n       <use xlink:href=\"#DejaVuSans-48\"/>\n      </g>\n     </g>\n    </g>\n    <g id=\"xtick_2\">\n     <g id=\"line2d_2\">\n      <g>\n       <use style=\"stroke:#000000;stroke-width:0.8;\" x=\"105.647973\" xlink:href=\"#m5f8a4486cc\" y=\"224.64\"/>\n      </g>\n     </g>\n     <g id=\"text_2\">\n      <!-- 20 -->\n      <g transform=\"translate(99.285473 239.238437)scale(0.1 -0.1)\">\n       <defs>\n        <path d=\"M 19.1875 8.296875 \nL 53.609375 8.296875 \nL 53.609375 0 \nL 7.328125 0 \nL 7.328125 8.296875 \nQ 12.9375 14.109375 22.625 23.890625 \nQ 32.328125 33.6875 34.8125 36.53125 \nQ 39.546875 41.84375 41.421875 45.53125 \nQ 43.3125 49.21875 43.3125 52.78125 \nQ 43.3125 58.59375 39.234375 62.25 \nQ 35.15625 65.921875 28.609375 65.921875 \nQ 23.96875 65.921875 18.8125 64.3125 \nQ 13.671875 62.703125 7.8125 59.421875 \nL 7.8125 69.390625 \nQ 13.765625 71.78125 18.9375 73 \nQ 24.125 74.21875 28.421875 74.21875 \nQ 39.75 74.21875 46.484375 68.546875 \nQ 53.21875 62.890625 53.21875 53.421875 \nQ 53.21875 48.921875 51.53125 44.890625 \nQ 49.859375 40.875 45.40625 35.40625 \nQ 44.1875 33.984375 37.640625 27.21875 \nQ 31.109375 20.453125 19.1875 8.296875 \nz\n\" id=\"DejaVuSans-50\"/>\n       </defs>\n       <use xlink:href=\"#DejaVuSans-50\"/>\n       <use x=\"63.623047\" xlink:href=\"#DejaVuSans-48\"/>\n      </g>\n     </g>\n    </g>\n    <g id=\"xtick_3\">\n     <g id=\"line2d_3\">\n      <g>\n       <use style=\"stroke:#000000;stroke-width:0.8;\" x=\"167.135576\" xlink:href=\"#m5f8a4486cc\" y=\"224.64\"/>\n      </g>\n     </g>\n     <g id=\"text_3\">\n      <!-- 40 -->\n      <g transform=\"translate(160.773076 239.238437)scale(0.1 -0.1)\">\n       <defs>\n        <path d=\"M 37.796875 64.3125 \nL 12.890625 25.390625 \nL 37.796875 25.390625 \nz\nM 35.203125 72.90625 \nL 47.609375 72.90625 \nL 47.609375 25.390625 \nL 58.015625 25.390625 \nL 58.015625 17.1875 \nL 47.609375 17.1875 \nL 47.609375 0 \nL 37.796875 0 \nL 37.796875 17.1875 \nL 4.890625 17.1875 \nL 4.890625 26.703125 \nz\n\" id=\"DejaVuSans-52\"/>\n       </defs>\n       <use xlink:href=\"#DejaVuSans-52\"/>\n       <use x=\"63.623047\" xlink:href=\"#DejaVuSans-48\"/>\n      </g>\n     </g>\n    </g>\n    <g id=\"xtick_4\">\n     <g id=\"line2d_4\">\n      <g>\n       <use style=\"stroke:#000000;stroke-width:0.8;\" x=\"228.623179\" xlink:href=\"#m5f8a4486cc\" y=\"224.64\"/>\n      </g>\n     </g>\n     <g id=\"text_4\">\n      <!-- 60 -->\n      <g transform=\"translate(222.260679 239.238437)scale(0.1 -0.1)\">\n       <defs>\n        <path d=\"M 33.015625 40.375 \nQ 26.375 40.375 22.484375 35.828125 \nQ 18.609375 31.296875 18.609375 23.390625 \nQ 18.609375 15.53125 22.484375 10.953125 \nQ 26.375 6.390625 33.015625 6.390625 \nQ 39.65625 6.390625 43.53125 10.953125 \nQ 47.40625 15.53125 47.40625 23.390625 \nQ 47.40625 31.296875 43.53125 35.828125 \nQ 39.65625 40.375 33.015625 40.375 \nz\nM 52.59375 71.296875 \nL 52.59375 62.3125 \nQ 48.875 64.0625 45.09375 64.984375 \nQ 41.3125 65.921875 37.59375 65.921875 \nQ 27.828125 65.921875 22.671875 59.328125 \nQ 17.53125 52.734375 16.796875 39.40625 \nQ 19.671875 43.65625 24.015625 45.921875 \nQ 28.375 48.1875 33.59375 48.1875 \nQ 44.578125 48.1875 50.953125 41.515625 \nQ 57.328125 34.859375 57.328125 23.390625 \nQ 57.328125 12.15625 50.6875 5.359375 \nQ 44.046875 -1.421875 33.015625 -1.421875 \nQ 20.359375 -1.421875 13.671875 8.265625 \nQ 6.984375 17.96875 6.984375 36.375 \nQ 6.984375 53.65625 15.1875 63.9375 \nQ 23.390625 74.21875 37.203125 74.21875 \nQ 40.921875 74.21875 44.703125 73.484375 \nQ 48.484375 72.75 52.59375 71.296875 \nz\n\" id=\"DejaVuSans-54\"/>\n       </defs>\n       <use xlink:href=\"#DejaVuSans-54\"/>\n       <use x=\"63.623047\" xlink:href=\"#DejaVuSans-48\"/>\n      </g>\n     </g>\n    </g>\n    <g id=\"xtick_5\">\n     <g id=\"line2d_5\">\n      <g>\n       <use style=\"stroke:#000000;stroke-width:0.8;\" x=\"290.110783\" xlink:href=\"#m5f8a4486cc\" y=\"224.64\"/>\n      </g>\n     </g>\n     <g id=\"text_5\">\n      <!-- 80 -->\n      <g transform=\"translate(283.748283 239.238437)scale(0.1 -0.1)\">\n       <defs>\n        <path d=\"M 31.78125 34.625 \nQ 24.75 34.625 20.71875 30.859375 \nQ 16.703125 27.09375 16.703125 20.515625 \nQ 16.703125 13.921875 20.71875 10.15625 \nQ 24.75 6.390625 31.78125 6.390625 \nQ 38.8125 6.390625 42.859375 10.171875 \nQ 46.921875 13.96875 46.921875 20.515625 \nQ 46.921875 27.09375 42.890625 30.859375 \nQ 38.875 34.625 31.78125 34.625 \nz\nM 21.921875 38.8125 \nQ 15.578125 40.375 12.03125 44.71875 \nQ 8.5 49.078125 8.5 55.328125 \nQ 8.5 64.0625 14.71875 69.140625 \nQ 20.953125 74.21875 31.78125 74.21875 \nQ 42.671875 74.21875 48.875 69.140625 \nQ 55.078125 64.0625 55.078125 55.328125 \nQ 55.078125 49.078125 51.53125 44.71875 \nQ 48 40.375 41.703125 38.8125 \nQ 48.828125 37.15625 52.796875 32.3125 \nQ 56.78125 27.484375 56.78125 20.515625 \nQ 56.78125 9.90625 50.3125 4.234375 \nQ 43.84375 -1.421875 31.78125 -1.421875 \nQ 19.734375 -1.421875 13.25 4.234375 \nQ 6.78125 9.90625 6.78125 20.515625 \nQ 6.78125 27.484375 10.78125 32.3125 \nQ 14.796875 37.15625 21.921875 38.8125 \nz\nM 18.3125 54.390625 \nQ 18.3125 48.734375 21.84375 45.5625 \nQ 25.390625 42.390625 31.78125 42.390625 \nQ 38.140625 42.390625 41.71875 45.5625 \nQ 45.3125 48.734375 45.3125 54.390625 \nQ 45.3125 60.0625 41.71875 63.234375 \nQ 38.140625 66.40625 31.78125 66.40625 \nQ 25.390625 66.40625 21.84375 63.234375 \nQ 18.3125 60.0625 18.3125 54.390625 \nz\n\" id=\"DejaVuSans-56\"/>\n       </defs>\n       <use xlink:href=\"#DejaVuSans-56\"/>\n       <use x=\"63.623047\" xlink:href=\"#DejaVuSans-48\"/>\n      </g>\n     </g>\n    </g>\n    <g id=\"xtick_6\">\n     <g id=\"line2d_6\">\n      <g>\n       <use style=\"stroke:#000000;stroke-width:0.8;\" x=\"351.598386\" xlink:href=\"#m5f8a4486cc\" y=\"224.64\"/>\n      </g>\n     </g>\n     <g id=\"text_6\">\n      <!-- 100 -->\n      <g transform=\"translate(342.054636 239.238437)scale(0.1 -0.1)\">\n       <defs>\n        <path d=\"M 12.40625 8.296875 \nL 28.515625 8.296875 \nL 28.515625 63.921875 \nL 10.984375 60.40625 \nL 10.984375 69.390625 \nL 28.421875 72.90625 \nL 38.28125 72.90625 \nL 38.28125 8.296875 \nL 54.390625 8.296875 \nL 54.390625 0 \nL 12.40625 0 \nz\n\" id=\"DejaVuSans-49\"/>\n       </defs>\n       <use xlink:href=\"#DejaVuSans-49\"/>\n       <use x=\"63.623047\" xlink:href=\"#DejaVuSans-48\"/>\n       <use x=\"127.246094\" xlink:href=\"#DejaVuSans-48\"/>\n      </g>\n     </g>\n    </g>\n   </g>\n   <g id=\"matplotlib.axis_2\">\n    <g id=\"ytick_1\">\n     <g id=\"line2d_7\">\n      <defs>\n       <path d=\"M 0 0 \nL -3.5 0 \n\" id=\"mfa3b3339fd\" style=\"stroke:#000000;stroke-width:0.8;\"/>\n      </defs>\n      <g>\n       <use style=\"stroke:#000000;stroke-width:0.8;\" x=\"28.942188\" xlink:href=\"#mfa3b3339fd\" y=\"214.756364\"/>\n      </g>\n     </g>\n     <g id=\"text_7\">\n      <!-- −5 -->\n      <g transform=\"translate(7.2 218.555582)scale(0.1 -0.1)\">\n       <defs>\n        <path d=\"M 10.59375 35.5 \nL 73.1875 35.5 \nL 73.1875 27.203125 \nL 10.59375 27.203125 \nz\n\" id=\"DejaVuSans-8722\"/>\n        <path d=\"M 10.796875 72.90625 \nL 49.515625 72.90625 \nL 49.515625 64.59375 \nL 19.828125 64.59375 \nL 19.828125 46.734375 \nQ 21.96875 47.46875 24.109375 47.828125 \nQ 26.265625 48.1875 28.421875 48.1875 \nQ 40.625 48.1875 47.75 41.5 \nQ 54.890625 34.8125 54.890625 23.390625 \nQ 54.890625 11.625 47.5625 5.09375 \nQ 40.234375 -1.421875 26.90625 -1.421875 \nQ 22.3125 -1.421875 17.546875 -0.640625 \nQ 12.796875 0.140625 7.71875 1.703125 \nL 7.71875 11.625 \nQ 12.109375 9.234375 16.796875 8.0625 \nQ 21.484375 6.890625 26.703125 6.890625 \nQ 35.15625 6.890625 40.078125 11.328125 \nQ 45.015625 15.765625 45.015625 23.390625 \nQ 45.015625 31 40.078125 35.4375 \nQ 35.15625 39.890625 26.703125 39.890625 \nQ 22.75 39.890625 18.8125 39.015625 \nQ 14.890625 38.140625 10.796875 36.28125 \nz\n\" id=\"DejaVuSans-53\"/>\n       </defs>\n       <use xlink:href=\"#DejaVuSans-8722\"/>\n       <use x=\"83.789062\" xlink:href=\"#DejaVuSans-53\"/>\n      </g>\n     </g>\n    </g>\n    <g id=\"ytick_2\">\n     <g id=\"line2d_8\">\n      <g>\n       <use style=\"stroke:#000000;stroke-width:0.8;\" x=\"28.942188\" xlink:href=\"#mfa3b3339fd\" y=\"190.047273\"/>\n      </g>\n     </g>\n     <g id=\"text_8\">\n      <!-- −4 -->\n      <g transform=\"translate(7.2 193.846491)scale(0.1 -0.1)\">\n       <use xlink:href=\"#DejaVuSans-8722\"/>\n       <use x=\"83.789062\" xlink:href=\"#DejaVuSans-52\"/>\n      </g>\n     </g>\n    </g>\n    <g id=\"ytick_3\">\n     <g id=\"line2d_9\">\n      <g>\n       <use style=\"stroke:#000000;stroke-width:0.8;\" x=\"28.942188\" xlink:href=\"#mfa3b3339fd\" y=\"165.338182\"/>\n      </g>\n     </g>\n     <g id=\"text_9\">\n      <!-- −3 -->\n      <g transform=\"translate(7.2 169.137401)scale(0.1 -0.1)\">\n       <defs>\n        <path d=\"M 40.578125 39.3125 \nQ 47.65625 37.796875 51.625 33 \nQ 55.609375 28.21875 55.609375 21.1875 \nQ 55.609375 10.40625 48.1875 4.484375 \nQ 40.765625 -1.421875 27.09375 -1.421875 \nQ 22.515625 -1.421875 17.65625 -0.515625 \nQ 12.796875 0.390625 7.625 2.203125 \nL 7.625 11.71875 \nQ 11.71875 9.328125 16.59375 8.109375 \nQ 21.484375 6.890625 26.8125 6.890625 \nQ 36.078125 6.890625 40.9375 10.546875 \nQ 45.796875 14.203125 45.796875 21.1875 \nQ 45.796875 27.640625 41.28125 31.265625 \nQ 36.765625 34.90625 28.71875 34.90625 \nL 20.21875 34.90625 \nL 20.21875 43.015625 \nL 29.109375 43.015625 \nQ 36.375 43.015625 40.234375 45.921875 \nQ 44.09375 48.828125 44.09375 54.296875 \nQ 44.09375 59.90625 40.109375 62.90625 \nQ 36.140625 65.921875 28.71875 65.921875 \nQ 24.65625 65.921875 20.015625 65.03125 \nQ 15.375 64.15625 9.8125 62.3125 \nL 9.8125 71.09375 \nQ 15.4375 72.65625 20.34375 73.4375 \nQ 25.25 74.21875 29.59375 74.21875 \nQ 40.828125 74.21875 47.359375 69.109375 \nQ 53.90625 64.015625 53.90625 55.328125 \nQ 53.90625 49.265625 50.4375 45.09375 \nQ 46.96875 40.921875 40.578125 39.3125 \nz\n\" id=\"DejaVuSans-51\"/>\n       </defs>\n       <use xlink:href=\"#DejaVuSans-8722\"/>\n       <use x=\"83.789062\" xlink:href=\"#DejaVuSans-51\"/>\n      </g>\n     </g>\n    </g>\n    <g id=\"ytick_4\">\n     <g id=\"line2d_10\">\n      <g>\n       <use style=\"stroke:#000000;stroke-width:0.8;\" x=\"28.942188\" xlink:href=\"#mfa3b3339fd\" y=\"140.629091\"/>\n      </g>\n     </g>\n     <g id=\"text_10\">\n      <!-- −2 -->\n      <g transform=\"translate(7.2 144.42831)scale(0.1 -0.1)\">\n       <use xlink:href=\"#DejaVuSans-8722\"/>\n       <use x=\"83.789062\" xlink:href=\"#DejaVuSans-50\"/>\n      </g>\n     </g>\n    </g>\n    <g id=\"ytick_5\">\n     <g id=\"line2d_11\">\n      <g>\n       <use style=\"stroke:#000000;stroke-width:0.8;\" x=\"28.942188\" xlink:href=\"#mfa3b3339fd\" y=\"115.92\"/>\n      </g>\n     </g>\n     <g id=\"text_11\">\n      <!-- −1 -->\n      <g transform=\"translate(7.2 119.719219)scale(0.1 -0.1)\">\n       <use xlink:href=\"#DejaVuSans-8722\"/>\n       <use x=\"83.789062\" xlink:href=\"#DejaVuSans-49\"/>\n      </g>\n     </g>\n    </g>\n    <g id=\"ytick_6\">\n     <g id=\"line2d_12\">\n      <g>\n       <use style=\"stroke:#000000;stroke-width:0.8;\" x=\"28.942188\" xlink:href=\"#mfa3b3339fd\" y=\"91.210909\"/>\n      </g>\n     </g>\n     <g id=\"text_12\">\n      <!-- 0 -->\n      <g transform=\"translate(15.579688 95.010128)scale(0.1 -0.1)\">\n       <use xlink:href=\"#DejaVuSans-48\"/>\n      </g>\n     </g>\n    </g>\n    <g id=\"ytick_7\">\n     <g id=\"line2d_13\">\n      <g>\n       <use style=\"stroke:#000000;stroke-width:0.8;\" x=\"28.942188\" xlink:href=\"#mfa3b3339fd\" y=\"66.501818\"/>\n      </g>\n     </g>\n     <g id=\"text_13\">\n      <!-- 1 -->\n      <g transform=\"translate(15.579688 70.301037)scale(0.1 -0.1)\">\n       <use xlink:href=\"#DejaVuSans-49\"/>\n      </g>\n     </g>\n    </g>\n    <g id=\"ytick_8\">\n     <g id=\"line2d_14\">\n      <g>\n       <use style=\"stroke:#000000;stroke-width:0.8;\" x=\"28.942188\" xlink:href=\"#mfa3b3339fd\" y=\"41.792727\"/>\n      </g>\n     </g>\n     <g id=\"text_14\">\n      <!-- 2 -->\n      <g transform=\"translate(15.579688 45.591946)scale(0.1 -0.1)\">\n       <use xlink:href=\"#DejaVuSans-50\"/>\n      </g>\n     </g>\n    </g>\n    <g id=\"ytick_9\">\n     <g id=\"line2d_15\">\n      <g>\n       <use style=\"stroke:#000000;stroke-width:0.8;\" x=\"28.942188\" xlink:href=\"#mfa3b3339fd\" y=\"17.083636\"/>\n      </g>\n     </g>\n     <g id=\"text_15\">\n      <!-- 3 -->\n      <g transform=\"translate(15.579688 20.882855)scale(0.1 -0.1)\">\n       <use xlink:href=\"#DejaVuSans-51\"/>\n      </g>\n     </g>\n    </g>\n   </g>\n   <g id=\"line2d_16\">\n    <path clip-path=\"url(#paf77a53274)\" d=\"M 44.160369 91.210909 \nL 47.234749 115.92 \nL 50.30913 91.210909 \nL 53.38351 115.92 \nL 56.45789 140.629091 \nL 59.53227 115.92 \nL 62.60665 140.629091 \nL 65.68103 165.338182 \nL 68.755411 140.629091 \nL 71.829791 165.338182 \nL 74.904171 190.047273 \nL 77.978551 165.338182 \nL 81.052931 190.047273 \nL 84.127311 214.756364 \nL 87.201692 190.047273 \nL 90.276072 165.338182 \nL 93.350452 140.629091 \nL 96.424832 115.92 \nL 99.499212 140.629091 \nL 102.573592 115.92 \nL 105.647973 91.210909 \nL 108.722353 115.92 \nL 111.796733 140.629091 \nL 114.871113 115.92 \nL 117.945493 91.210909 \nL 121.019873 115.92 \nL 124.094254 91.210909 \nL 127.168634 115.92 \nL 130.243014 140.629091 \nL 133.317394 115.92 \nL 136.391774 91.210909 \nL 139.466154 115.92 \nL 142.540535 140.629091 \nL 145.614915 165.338182 \nL 148.689295 190.047273 \nL 151.763675 165.338182 \nL 154.838055 140.629091 \nL 157.912435 165.338182 \nL 160.986816 190.047273 \nL 164.061196 214.756364 \nL 167.135576 190.047273 \nL 170.209956 165.338182 \nL 173.284336 140.629091 \nL 176.358716 115.92 \nL 179.433097 91.210909 \nL 182.507477 115.92 \nL 185.581857 91.210909 \nL 188.656237 66.501818 \nL 191.730617 91.210909 \nL 194.804997 115.92 \nL 197.879378 91.210909 \nL 200.953758 115.92 \nL 204.028138 140.629091 \nL 207.102518 165.338182 \nL 210.176898 140.629091 \nL 213.251278 165.338182 \nL 216.325659 190.047273 \nL 219.400039 214.756364 \nL 222.474419 190.047273 \nL 225.548799 165.338182 \nL 228.623179 140.629091 \nL 231.697559 165.338182 \nL 234.77194 190.047273 \nL 237.84632 165.338182 \nL 240.9207 140.629091 \nL 243.99508 115.92 \nL 247.06946 91.210909 \nL 250.14384 66.501818 \nL 253.218221 41.792727 \nL 256.292601 66.501818 \nL 259.366981 91.210909 \nL 262.441361 66.501818 \nL 265.515741 41.792727 \nL 268.590121 17.083636 \nL 271.664502 41.792727 \nL 274.738882 66.501818 \nL 277.813262 41.792727 \nL 280.887642 66.501818 \nL 283.962022 91.210909 \nL 287.036402 66.501818 \nL 290.110783 91.210909 \nL 293.185163 115.92 \nL 296.259543 140.629091 \nL 299.333923 115.92 \nL 302.408303 140.629091 \nL 305.482683 115.92 \nL 308.557064 91.210909 \nL 311.631444 66.501818 \nL 314.705824 41.792727 \nL 317.780204 66.501818 \nL 320.854584 41.792727 \nL 323.928964 17.083636 \nL 327.003345 41.792727 \nL 330.077725 17.083636 \nL 333.152105 41.792727 \nL 336.226485 66.501818 \nL 339.300865 91.210909 \nL 342.375245 115.92 \nL 345.449626 91.210909 \nL 348.524006 66.501818 \n\" style=\"fill:none;stroke:#1f77b4;stroke-linecap:square;stroke-width:1.5;\"/>\n   </g>\n   <g id=\"patch_3\">\n    <path d=\"M 28.942188 224.64 \nL 28.942188 7.2 \n\" style=\"fill:none;stroke:#000000;stroke-linecap:square;stroke-linejoin:miter;stroke-width:0.8;\"/>\n   </g>\n   <g id=\"patch_4\">\n    <path d=\"M 363.742188 224.64 \nL 363.742188 7.2 \n\" style=\"fill:none;stroke:#000000;stroke-linecap:square;stroke-linejoin:miter;stroke-width:0.8;\"/>\n   </g>\n   <g id=\"patch_5\">\n    <path d=\"M 28.942188 224.64 \nL 363.742188 224.64 \n\" style=\"fill:none;stroke:#000000;stroke-linecap:square;stroke-linejoin:miter;stroke-width:0.8;\"/>\n   </g>\n   <g id=\"patch_6\">\n    <path d=\"M 28.942188 7.2 \nL 363.742188 7.2 \n\" style=\"fill:none;stroke:#000000;stroke-linecap:square;stroke-linejoin:miter;stroke-width:0.8;\"/>\n   </g>\n  </g>\n </g>\n <defs>\n  <clipPath id=\"paf77a53274\">\n   <rect height=\"217.44\" width=\"334.8\" x=\"28.942188\" y=\"7.2\"/>\n  </clipPath>\n </defs>\n</svg>\n",
      "image/png": "[encoded data removed]"
     },
     "metadata": {
      "needs_background": "light"
     }
    }
   ],
   "source": [
    "plt.plot(walk[:100])    #最初の１００歩がどのようであったか図示する"
   ]
  },
  {
   "cell_type": "code",
   "execution_count": 121,
   "metadata": {},
   "outputs": [],
   "source": [
    "nsteps=1000\n",
    "draws=np.random.randint(0,2,size=nsteps)    #0か1の乱数をnsteps分生成した配列を返す\n",
    "steps=np.where(draws>0,1,-1)    #各要素が0なら1、1なら-1を格納した配列を返す\n",
    "walk=steps.cumsum()  #配列の累積和（到達した位置）を計算. たどってきた軌跡が記録される."
   ]
  },
  {
   "cell_type": "code",
   "execution_count": 122,
   "metadata": {},
   "outputs": [
    {
     "output_type": "execute_result",
     "data": {
      "text/plain": [
       "-9"
      ]
     },
     "metadata": {},
     "execution_count": 122
    }
   ],
   "source": [
    "walk.min()"
   ]
  },
  {
   "cell_type": "code",
   "execution_count": 123,
   "metadata": {},
   "outputs": [
    {
     "output_type": "execute_result",
     "data": {
      "text/plain": [
       "60"
      ]
     },
     "metadata": {},
     "execution_count": 123
    }
   ],
   "source": [
    "walk.max()"
   ]
  },
  {
   "cell_type": "code",
   "execution_count": 127,
   "metadata": {},
   "outputs": [
    {
     "output_type": "execute_result",
     "data": {
      "text/plain": [
       "297"
      ]
     },
     "metadata": {},
     "execution_count": 127
    }
   ],
   "source": [
    "#初めて原点から１０離れた位置に到達したときの歩数\n",
    "(np.abs(walk)>=10).argmax()   #絶対値が１０以上でTrueを示す真偽値配列の内、最初に最大値（True=１）を示したインデックスを返す\n",
    "\n",
    "#argmaxを用いると配列要素の全スキャンが発生するので注意"
   ]
  },
  {
   "source": [
    "### 4.7.1 多重ランダムウォーク\n",
    "ランダムウォークを５０００回施行する"
   ],
   "cell_type": "markdown",
   "metadata": {}
  },
  {
   "cell_type": "code",
   "execution_count": 129,
   "metadata": {},
   "outputs": [],
   "source": [
    "nwalks=5000\n",
    "nsteps=1000\n",
    "draws=np.random.randint(0,2,size=(nwalks,nsteps))\n",
    "steps=np.where(draws>0,1,-1)\n",
    "walks=steps.cumsum(1)"
   ]
  },
  {
   "cell_type": "code",
   "execution_count": 130,
   "metadata": {},
   "outputs": [
    {
     "output_type": "execute_result",
     "data": {
      "text/plain": [
       "array([[ -1,   0,   1, ...,  -6,  -5,  -4],\n",
       "       [ -1,  -2,  -1, ..., -18, -19, -18],\n",
       "       [  1,   0,  -1, ...,  24,  23,  22],\n",
       "       ...,\n",
       "       [ -1,   0,  -1, ...,  -2,  -3,  -4],\n",
       "       [ -1,   0,  -1, ...,  30,  29,  30],\n",
       "       [  1,   0,  -1, ...,  18,  19,  20]])"
      ]
     },
     "metadata": {},
     "execution_count": 130
    }
   ],
   "source": [
    "walks"
   ]
  },
  {
   "cell_type": "code",
   "execution_count": 131,
   "metadata": {},
   "outputs": [
    {
     "output_type": "execute_result",
     "data": {
      "text/plain": [
       "137"
      ]
     },
     "metadata": {},
     "execution_count": 131
    }
   ],
   "source": [
    "walks.max()"
   ]
  },
  {
   "cell_type": "code",
   "execution_count": 132,
   "metadata": {},
   "outputs": [
    {
     "output_type": "execute_result",
     "data": {
      "text/plain": [
       "-137"
      ]
     },
     "metadata": {},
     "execution_count": 132
    }
   ],
   "source": [
    "walks.min()"
   ]
  },
  {
   "cell_type": "code",
   "execution_count": 133,
   "metadata": {},
   "outputs": [
    {
     "output_type": "execute_result",
     "data": {
      "text/plain": [
       "array([False,  True,  True, ..., False,  True,  True])"
      ]
     },
     "metadata": {},
     "execution_count": 133
    }
   ],
   "source": [
    "hits30=(np.abs(walks)>=30).any(1)   #絶対値30以上の値がひとつでもあればTrueになる配列を返す\n",
    "hits30"
   ]
  },
  {
   "cell_type": "code",
   "execution_count": 134,
   "metadata": {},
   "outputs": [
    {
     "output_type": "execute_result",
     "data": {
      "text/plain": [
       "3431"
      ]
     },
     "metadata": {},
     "execution_count": 134
    }
   ],
   "source": [
    "hits30.sum()    #30もしくは-30に到達した施行の数"
   ]
  },
  {
   "cell_type": "code",
   "execution_count": 142,
   "metadata": {},
   "outputs": [
    {
     "output_type": "execute_result",
     "data": {
      "text/plain": [
       "array([267, 989, 923, ..., 937, 575, 197])"
      ]
     },
     "metadata": {},
     "execution_count": 142
    }
   ],
   "source": [
    "crossing_times=(np.abs(walks[hits30])>=30).argmax(1)\n",
    "#walksの中から距離30に到達した施行だけ抜き出し、その要素の絶対値が30以上でTrueとなる真偽値配列を作り、Trueとなる最初のインデックスを各施行ごとに返す\n",
    "crossing_times"
   ]
  },
  {
   "cell_type": "code",
   "execution_count": 143,
   "metadata": {},
   "outputs": [
    {
     "output_type": "execute_result",
     "data": {
      "text/plain": [
       "506.2532789274264"
      ]
     },
     "metadata": {},
     "execution_count": 143
    }
   ],
   "source": [
    "crossing_times.mean()   #平均で何歩目に距離30に到達するか計算する"
   ]
  },
  {
   "cell_type": "code",
   "execution_count": 191,
   "metadata": {},
   "outputs": [],
   "source": [
    "class RandomWalk():\n",
    "    def __init__(self,loc=0,scale=1,nwalks=5000,nsteps=1000):\n",
    "        draws=np.random.normal(loc=loc,scale=scale,size=(nwalks,nsteps))\n",
    "        steps=np.where(draws>0,1,-1)\n",
    "        self.walks=steps.cumsum(1)\n",
    "        self.crossing_times=None\n",
    "\n",
    "    def calcurate_crossing_times(self,position=30):\n",
    "        hits=(np.abs(self.walks)>=position).any(1)\n",
    "        self.crossing_times=(np.abs(self.walks[hits])>=position).argmax(1)\n",
    "        return self.crossing_times\n",
    "\n",
    "    def min_position(self):\n",
    "        return self.walks.min()\n",
    "\n",
    "    def max_position(self):\n",
    "        return self.walks.max()\n",
    "\n",
    "    def crossing_time_mean(self,position=30):\n",
    "        if self.crossing_times is None:\n",
    "            self.crossing_times=self.calcurate_crossing_times(position)\n",
    "        return self.crossing_times.mean()"
   ]
  },
  {
   "cell_type": "code",
   "execution_count": 192,
   "metadata": {},
   "outputs": [
    {
     "output_type": "execute_result",
     "data": {
      "text/plain": [
       "506.78511404561823"
      ]
     },
     "metadata": {},
     "execution_count": 192
    }
   ],
   "source": [
    "r=RandomWalk(0,0.25)\n",
    "r.crossing_time_mean(30)"
   ]
  },
  {
   "cell_type": "code",
   "execution_count": 193,
   "metadata": {},
   "outputs": [
    {
     "output_type": "execute_result",
     "data": {
      "text/plain": [
       "-115"
      ]
     },
     "metadata": {},
     "execution_count": 193
    }
   ],
   "source": [
    "r.min_position()"
   ]
  },
  {
   "cell_type": "code",
   "execution_count": 194,
   "metadata": {},
   "outputs": [
    {
     "output_type": "execute_result",
     "data": {
      "text/plain": [
       "137"
      ]
     },
     "metadata": {},
     "execution_count": 194
    }
   ],
   "source": [
    "r.max_position()"
   ]
  },
  {
   "cell_type": "code",
   "execution_count": null,
   "metadata": {},
   "outputs": [],
   "source": []
  }
 ]
}